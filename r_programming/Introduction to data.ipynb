{
 "cells": [
  {
   "cell_type": "code",
   "execution_count": 1,
   "metadata": {},
   "outputs": [],
   "source": [
    "#Loading Data"
   ]
  },
  {
   "cell_type": "code",
   "execution_count": 2,
   "metadata": {},
   "outputs": [
    {
     "name": "stderr",
     "output_type": "stream",
     "text": [
      "Please visit openintro.org for free statistics materials\n",
      "\n",
      "Attaching package: 'openintro'\n",
      "\n",
      "The following object is masked from 'package:datasets':\n",
      "\n",
      "    cars\n",
      "\n"
     ]
    }
   ],
   "source": [
    "library(openintro)"
   ]
  },
  {
   "cell_type": "code",
   "execution_count": 3,
   "metadata": {},
   "outputs": [],
   "source": [
    "# Load dataset into memory\n",
    "data(hsb2)"
   ]
  },
  {
   "cell_type": "code",
   "execution_count": 4,
   "metadata": {},
   "outputs": [
    {
     "name": "stdout",
     "output_type": "stream",
     "text": [
      "'data.frame':\t200 obs. of  11 variables:\n",
      " $ id     : int  70 121 86 141 172 113 50 11 84 48 ...\n",
      " $ gender : chr  \"male\" \"female\" \"male\" \"male\" ...\n",
      " $ race   : chr  \"white\" \"white\" \"white\" \"white\" ...\n",
      " $ ses    : Factor w/ 3 levels \"low\",\"middle\",..: 1 2 3 3 2 2 2 2 2 2 ...\n",
      " $ schtyp : Factor w/ 2 levels \"public\",\"private\": 1 1 1 1 1 1 1 1 1 1 ...\n",
      " $ prog   : Factor w/ 3 levels \"general\",\"academic\",..: 1 3 1 3 2 2 1 2 1 2 ...\n",
      " $ read   : int  57 68 44 63 47 44 50 34 63 57 ...\n",
      " $ write  : int  52 59 33 44 52 52 59 46 57 55 ...\n",
      " $ math   : int  41 53 54 47 57 51 42 45 54 52 ...\n",
      " $ science: int  47 63 58 53 53 63 53 39 58 50 ...\n",
      " $ socst  : int  57 61 31 56 61 61 61 36 51 51 ...\n"
     ]
    }
   ],
   "source": [
    "# View the structure of the data\n",
    "str(hsb2)"
   ]
  },
  {
   "cell_type": "code",
   "execution_count": 5,
   "metadata": {},
   "outputs": [
    {
     "name": "stderr",
     "output_type": "stream",
     "text": [
      "\n",
      "Attaching package: 'dplyr'\n",
      "\n",
      "The following objects are masked from 'package:stats':\n",
      "\n",
      "    filter, lag\n",
      "\n",
      "The following objects are masked from 'package:base':\n",
      "\n",
      "    intersect, setdiff, setequal, union\n",
      "\n"
     ]
    }
   ],
   "source": [
    "# Load package\n",
    "library(dplyr)"
   ]
  },
  {
   "cell_type": "code",
   "execution_count": 6,
   "metadata": {},
   "outputs": [
    {
     "name": "stdout",
     "output_type": "stream",
     "text": [
      "Observations: 200\n",
      "Variables: 11\n",
      "$ id      <int> 70, 121, 86, 141, 172, 113, 50, 11, 84, 48, 75, 60, 95, 104...\n",
      "$ gender  <chr> \"male\", \"female\", \"male\", \"male\", \"male\", \"male\", \"male\", \"...\n",
      "$ race    <chr> \"white\", \"white\", \"white\", \"white\", \"white\", \"white\", \"afri...\n",
      "$ ses     <fctr> low, middle, high, high, middle, middle, middle, middle, m...\n",
      "$ schtyp  <fctr> public, public, public, public, public, public, public, pu...\n",
      "$ prog    <fctr> general, vocational, general, vocational, academic, academ...\n",
      "$ read    <int> 57, 68, 44, 63, 47, 44, 50, 34, 63, 57, 60, 57, 73, 54, 45,...\n",
      "$ write   <int> 52, 59, 33, 44, 52, 52, 59, 46, 57, 55, 46, 65, 60, 63, 57,...\n",
      "$ math    <int> 41, 53, 54, 47, 57, 51, 42, 45, 54, 52, 51, 51, 71, 57, 50,...\n",
      "$ science <int> 47, 63, 58, 53, 53, 63, 53, 39, 58, 50, 53, 63, 61, 55, 31,...\n",
      "$ socst   <int> 57, 61, 31, 56, 61, 61, 61, 36, 51, 51, 61, 61, 71, 46, 56,...\n"
     ]
    }
   ],
   "source": [
    "# View structure of the data with dplyr\n",
    "glimpse(hsb2)"
   ]
  },
  {
   "cell_type": "markdown",
   "metadata": {},
   "source": [
    "## Loading data into R\n",
    "In the previous video, we saw how to load the hsb2 dataset into R using the data() function and how to preview its contents with str(). \n",
    "\n",
    "In this exercise, we'll practice on another dataset, email50, which contains a subset of incoming emails for the first three months of 2012 for a single email account. We'll examine the structure of this dataset and determine the number of rows (observations) and columns (variables)."
   ]
  },
  {
   "cell_type": "markdown",
   "metadata": {},
   "source": [
    "- Load the email50 dataset with the data() function.\n",
    "\n",
    "- View the structure of this dataset with the str() function. How many observations and variables are there?"
   ]
  },
  {
   "cell_type": "code",
   "execution_count": 7,
   "metadata": {},
   "outputs": [],
   "source": [
    "# Load data\n",
    "data(email50)"
   ]
  },
  {
   "cell_type": "code",
   "execution_count": 8,
   "metadata": {},
   "outputs": [
    {
     "name": "stdout",
     "output_type": "stream",
     "text": [
      "'data.frame':\t50 obs. of  21 variables:\n",
      " $ spam        : num  0 0 1 0 0 0 0 0 0 0 ...\n",
      " $ to_multiple : num  0 0 0 0 0 0 0 0 0 0 ...\n",
      " $ from        : num  1 1 1 1 1 1 1 1 1 1 ...\n",
      " $ cc          : int  0 0 4 0 0 0 0 0 1 0 ...\n",
      " $ sent_email  : num  1 0 0 0 0 0 0 1 1 0 ...\n",
      " $ time        : POSIXct, format: \"2012-01-04 08:19:16\" \"2012-02-16 15:10:06\" ...\n",
      " $ image       : num  0 0 0 0 0 0 0 0 0 0 ...\n",
      " $ attach      : num  0 0 2 0 0 0 0 0 0 0 ...\n",
      " $ dollar      : num  0 0 0 0 9 0 0 0 0 23 ...\n",
      " $ winner      : Factor w/ 2 levels \"no\",\"yes\": 1 1 1 1 1 1 1 1 1 1 ...\n",
      " $ inherit     : num  0 0 0 0 0 0 0 0 0 0 ...\n",
      " $ viagra      : num  0 0 0 0 0 0 0 0 0 0 ...\n",
      " $ password    : num  0 0 0 0 1 0 0 0 0 0 ...\n",
      " $ num_char    : num  21.705 7.011 0.631 2.454 41.623 ...\n",
      " $ line_breaks : int  551 183 28 61 1088 5 17 88 242 578 ...\n",
      " $ format      : num  1 1 0 0 1 0 0 1 1 1 ...\n",
      " $ re_subj     : num  1 0 0 0 0 0 0 1 1 0 ...\n",
      " $ exclaim_subj: num  0 0 0 0 0 0 0 0 1 0 ...\n",
      " $ urgent_subj : num  0 0 0 0 0 0 0 0 0 0 ...\n",
      " $ exclaim_mess: num  8 1 2 1 43 0 0 2 22 3 ...\n",
      " $ number      : Factor w/ 3 levels \"none\",\"small\",..: 2 3 1 2 2 2 2 2 2 2 ...\n"
     ]
    }
   ],
   "source": [
    "# View the structure of the data\n",
    "str(email50)"
   ]
  },
  {
   "cell_type": "markdown",
   "metadata": {},
   "source": [
    "# Types of variables\n",
    "- The type of variable helps us to determine what type of summary statistics to calculate, what type of visualizations to make, and what type of method will be appropriate to answer the research questions we are exploring.\n",
    "- There are two types of variables:\n",
    " - numerical (quantitative): numerical values\n",
    "     - continous: infinite number of values within a given range, often measured\n",
    "     - Discrete: specific set of numeric values that can be counted or enumerated, often counted\n",
    "     \n",
    " - categorical (qualitative): limited number of distinct categories\n",
    "    - Ordinal: finite number of values within a given often measured (survey)\n",
    "    - if Not ordinal then it is categorical\n",
    "     \n",
    "     \n"
   ]
  },
  {
   "cell_type": "code",
   "execution_count": 9,
   "metadata": {},
   "outputs": [
    {
     "name": "stdout",
     "output_type": "stream",
     "text": [
      "Observations: 200\n",
      "Variables: 11\n",
      "$ id      <int> 70, 121, 86, 141, 172, 113, 50, 11, 84, 48, 75, 60, 95, 104...\n",
      "$ gender  <chr> \"male\", \"female\", \"male\", \"male\", \"male\", \"male\", \"male\", \"...\n",
      "$ race    <chr> \"white\", \"white\", \"white\", \"white\", \"white\", \"white\", \"afri...\n",
      "$ ses     <fctr> low, middle, high, high, middle, middle, middle, middle, m...\n",
      "$ schtyp  <fctr> public, public, public, public, public, public, public, pu...\n",
      "$ prog    <fctr> general, vocational, general, vocational, academic, academ...\n",
      "$ read    <int> 57, 68, 44, 63, 47, 44, 50, 34, 63, 57, 60, 57, 73, 54, 45,...\n",
      "$ write   <int> 52, 59, 33, 44, 52, 52, 59, 46, 57, 55, 46, 65, 60, 63, 57,...\n",
      "$ math    <int> 41, 53, 54, 47, 57, 51, 42, 45, 54, 52, 51, 51, 71, 57, 50,...\n",
      "$ science <int> 47, 63, 58, 53, 53, 63, 53, 39, 58, 50, 53, 63, 61, 55, 31,...\n",
      "$ socst   <int> 57, 61, 31, 56, 61, 61, 61, 36, 51, 51, 61, 61, 71, 46, 56,...\n"
     ]
    }
   ],
   "source": [
    "glimpse(hsb2)"
   ]
  },
  {
   "cell_type": "markdown",
   "metadata": {},
   "source": [
    "## Identify variable types\n",
    "Recall from the video that the glimpse() function from dplyr provides a handy alternative to str() for previewing a dataset. In addition to the number of observations and variables, it shows the name and type of each column, along with a neatly printed preview of its values.\n",
    "\n",
    "Let's have another look at the email50 data, so we can practice identifying variable types."
   ]
  },
  {
   "cell_type": "markdown",
   "metadata": {},
   "source": [
    "- Use the glimpse() function to view the variables in the email50 dataset.\n",
    "- Remember that variable descriptions are available in the help file for the dataset, which we can access by typing ?email50 in the console.\n",
    "- Review the output to identify each variable as either numerical or categorical, and further as discrete or continuous (if numerical) or ordinal or not ordinal (if categorical)."
   ]
  },
  {
   "cell_type": "code",
   "execution_count": 10,
   "metadata": {},
   "outputs": [
    {
     "name": "stdout",
     "output_type": "stream",
     "text": [
      "Observations: 50\n",
      "Variables: 21\n",
      "$ spam         <dbl> 0, 0, 1, 0, 0, 0, 0, 0, 0, 0, 0, 0, 1, 1, 0, 0, 0, 1, ...\n",
      "$ to_multiple  <dbl> 0, 0, 0, 0, 0, 0, 0, 0, 0, 0, 0, 0, 0, 1, 0, 0, 0, 0, ...\n",
      "$ from         <dbl> 1, 1, 1, 1, 1, 1, 1, 1, 1, 1, 1, 1, 1, 1, 1, 1, 1, 1, ...\n",
      "$ cc           <int> 0, 0, 4, 0, 0, 0, 0, 0, 1, 0, 0, 0, 0, 0, 0, 0, 0, 0, ...\n",
      "$ sent_email   <dbl> 1, 0, 0, 0, 0, 0, 0, 1, 1, 0, 0, 0, 0, 0, 0, 1, 1, 0, ...\n",
      "$ time         <dttm> 2012-01-04 08:19:16, 2012-02-16 15:10:06, 2012-01-04 ...\n",
      "$ image        <dbl> 0, 0, 0, 0, 0, 0, 0, 0, 0, 0, 0, 0, 0, 0, 0, 0, 0, 0, ...\n",
      "$ attach       <dbl> 0, 0, 2, 0, 0, 0, 0, 0, 0, 0, 0, 0, 0, 2, 0, 0, 0, 1, ...\n",
      "$ dollar       <dbl> 0, 0, 0, 0, 9, 0, 0, 0, 0, 23, 4, 0, 3, 2, 0, 0, 0, 0,...\n",
      "$ winner       <fctr> no, no, no, no, no, no, no, no, no, no, no, no, yes, ...\n",
      "$ inherit      <dbl> 0, 0, 0, 0, 0, 0, 0, 0, 0, 0, 0, 0, 0, 0, 0, 0, 0, 0, ...\n",
      "$ viagra       <dbl> 0, 0, 0, 0, 0, 0, 0, 0, 0, 0, 0, 0, 0, 0, 0, 0, 0, 0, ...\n",
      "$ password     <dbl> 0, 0, 0, 0, 1, 0, 0, 0, 0, 0, 0, 2, 0, 0, 0, 0, 0, 0, ...\n",
      "$ num_char     <dbl> 21.705, 7.011, 0.631, 2.454, 41.623, 0.057, 0.809, 5.2...\n",
      "$ line_breaks  <int> 551, 183, 28, 61, 1088, 5, 17, 88, 242, 578, 1167, 198...\n",
      "$ format       <dbl> 1, 1, 0, 0, 1, 0, 0, 1, 1, 1, 1, 1, 1, 0, 1, 1, 1, 0, ...\n",
      "$ re_subj      <dbl> 1, 0, 0, 0, 0, 0, 0, 1, 1, 0, 0, 0, 0, 0, 0, 1, 1, 0, ...\n",
      "$ exclaim_subj <dbl> 0, 0, 0, 0, 0, 0, 0, 0, 1, 0, 0, 0, 0, 0, 0, 0, 0, 0, ...\n",
      "$ urgent_subj  <dbl> 0, 0, 0, 0, 0, 0, 0, 0, 0, 0, 0, 0, 0, 0, 0, 0, 0, 0, ...\n",
      "$ exclaim_mess <dbl> 8, 1, 2, 1, 43, 0, 0, 2, 22, 3, 13, 1, 2, 2, 21, 10, 0...\n",
      "$ number       <fctr> small, big, none, small, small, small, small, small, ...\n"
     ]
    }
   ],
   "source": [
    "glimpse(email50)"
   ]
  },
  {
   "cell_type": "code",
   "execution_count": 11,
   "metadata": {},
   "outputs": [
    {
     "data": {
      "text/html": [
       "\n",
       "<table width=\"100%\" summary=\"page for email50 {openintro}\"><tr><td>email50 {openintro}</td><td style=\"text-align: right;\">R Documentation</td></tr></table>\n",
       "\n",
       "<h2> Sample of 50 emails </h2>\n",
       "\n",
       "<h3>Description</h3>\n",
       "\n",
       "<p> This is a subsample of the <code>email</code> data set. </p>\n",
       "\n",
       "\n",
       "<h3>Usage</h3>\n",
       "\n",
       "<pre>data(email50)</pre>\n",
       "\n",
       "\n",
       "<h3>Format</h3>\n",
       "\n",
       "<p>A data frame with 50 observations on the following 21 variables.\n",
       "</p>\n",
       "\n",
       "<dl>\n",
       "<dt><code>spam</code></dt><dd><p>Indicator for whether the email was spam.</p>\n",
       "</dd>\n",
       "<dt><code>to_multiple</code></dt><dd><p>Indicator for whether the email was addressed to more than one recipient.</p>\n",
       "</dd>\n",
       "<dt><code>from</code></dt><dd><p>Whether the message was listed as from anyone (this is usually set by default for regular outgoing email).</p>\n",
       "</dd>\n",
       "<dt><code>cc</code></dt><dd><p>Indicator for whether anyone was CCed.</p>\n",
       "</dd>\n",
       "<dt><code>sent_email</code></dt><dd><p>Indicator for whether the sender had been sent an email in the last 30 days.</p>\n",
       "</dd>\n",
       "<dt><code>time</code></dt><dd><p>Time at which email was sent.</p>\n",
       "</dd>\n",
       "<dt><code>image</code></dt><dd><p>The number of images attached.</p>\n",
       "</dd>\n",
       "<dt><code>attach</code></dt><dd><p>The number of attached files.</p>\n",
       "</dd>\n",
       "<dt><code>dollar</code></dt><dd><p>The number of times a dollar sign or the word &ldquo;dollar&rdquo; appeared in the email.</p>\n",
       "</dd>\n",
       "<dt><code>winner</code></dt><dd><p>Indicates whether &ldquo;winner&rdquo; appeared in the email.</p>\n",
       "</dd>\n",
       "<dt><code>inherit</code></dt><dd><p>The number of times &ldquo;inherit&rdquo; (or an extension, such as &ldquo;inheritance&rdquo;) appeared in the email.</p>\n",
       "</dd>\n",
       "<dt><code>viagra</code></dt><dd><p>The number of times &ldquo;viagra&rdquo; appeared in the email.</p>\n",
       "</dd>\n",
       "<dt><code>password</code></dt><dd><p>The number of times &ldquo;password&rdquo; appeared in the email.</p>\n",
       "</dd>\n",
       "<dt><code>num_char</code></dt><dd><p>The number of characters in the email, in thousands.</p>\n",
       "</dd>\n",
       "<dt><code>line_breaks</code></dt><dd><p>The number of line breaks in the email (does not count text wrapping).</p>\n",
       "</dd>\n",
       "<dt><code>format</code></dt><dd><p>Indicates whether the email was written using HTML (e.g. may have included bolding or active links).</p>\n",
       "</dd>\n",
       "<dt><code>re_subj</code></dt><dd><p>Whether the subject started with &ldquo;Re:&rdquo;, &ldquo;RE:&rdquo;, &ldquo;re:&rdquo;, or &ldquo;rE:&rdquo;</p>\n",
       "</dd>\n",
       "<dt><code>exclaim_subj</code></dt><dd><p>Whether there was an exclamation point in the subject.</p>\n",
       "</dd>\n",
       "<dt><code>urgent_subj</code></dt><dd><p>Whether the word &ldquo;urgent&rdquo; was in the email subject.</p>\n",
       "</dd>\n",
       "<dt><code>exclaim_mess</code></dt><dd><p>The number of exclamation points in the email message.</p>\n",
       "</dd>\n",
       "</dl>\n",
       "\n",
       "\n",
       "<dl>\n",
       "<dt><code>number</code></dt><dd><p>Factor variable saying whether there was no number, a small number (under 1 million), or a big number.</p>\n",
       "</dd>\n",
       "</dl>\n",
       "\n",
       "\n",
       "\n",
       "<h3>Source</h3>\n",
       "\n",
       "<p> David Diez's Gmail Account, early months of 2012. All personally identifiable information has been removed. </p>\n",
       "\n",
       "\n",
       "<h3>References</h3>\n",
       "\n",
       "<p>~~ OpenIntro Statistics, <a href=\"http://www.openintro.org/stat/textbook.php\">openintro.org</a> ~~\n",
       "</p>\n",
       "\n",
       "\n",
       "<h3>See Also</h3>\n",
       "\n",
       " <p><code>email</code>, <code>county</code> </p>\n",
       "\n",
       "\n",
       "<h3>Examples</h3>\n",
       "\n",
       "<pre>\n",
       "data(email50)\n",
       "data(email)\n",
       "set.seed(5)\n",
       "d  &lt;- email[sample(nrow(email), 50),][c(1:25,27:50,26),]\n",
       "identical(d, email50)\n",
       "\n",
       "# the \"[c(1,26,2:25,27:50),]\" was added to reorder the cases\n",
       "</pre>\n",
       "\n",
       "<hr /><div style=\"text-align: center;\">[Package <em>openintro</em> version 1.4 ]</div>"
      ],
      "text/latex": [
       "\\inputencoding{utf8}\n",
       "\\HeaderA{email50}{ Sample of 50 emails }{email50}\n",
       "\\keyword{datasets}{email50}\n",
       "%\n",
       "\\begin{Description}\\relax\n",
       " This is a subsample of the \\code{\\LinkA{email}{email}} data set. \n",
       "\\end{Description}\n",
       "%\n",
       "\\begin{Usage}\n",
       "\\begin{verbatim}\n",
       "data(email50)\n",
       "\\end{verbatim}\n",
       "\\end{Usage}\n",
       "%\n",
       "\\begin{Format}\n",
       "A data frame with 50 observations on the following 21 variables.\n",
       "\\begin{description}\n",
       "\n",
       "\\item[\\code{spam}] Indicator for whether the email was spam.\n",
       "\\item[\\code{to\\_multiple}] Indicator for whether the email was addressed to more than one recipient.\n",
       "\\item[\\code{from}] Whether the message was listed as from anyone (this is usually set by default for regular outgoing email).\n",
       "\\item[\\code{cc}] Indicator for whether anyone was CCed.\n",
       "\\item[\\code{sent\\_email}] Indicator for whether the sender had been sent an email in the last 30 days.\n",
       "\\item[\\code{time}] Time at which email was sent.\n",
       "\\item[\\code{image}] The number of images attached.\n",
       "\\item[\\code{attach}] The number of attached files.\n",
       "\\item[\\code{dollar}] The number of times a dollar sign or the word ``dollar'' appeared in the email.\n",
       "\\item[\\code{winner}] Indicates whether ``winner'' appeared in the email.\n",
       "\\item[\\code{inherit}] The number of times ``inherit'' (or an extension, such as ``inheritance'') appeared in the email.\n",
       "\\item[\\code{viagra}] The number of times ``viagra'' appeared in the email.\n",
       "\\item[\\code{password}] The number of times ``password'' appeared in the email.\n",
       "\\item[\\code{num\\_char}] The number of characters in the email, in thousands.\n",
       "\\item[\\code{line\\_breaks}] The number of line breaks in the email (does not count text wrapping).\n",
       "\\item[\\code{format}] Indicates whether the email was written using HTML (e.g. may have included bolding or active links).\n",
       "\\item[\\code{re\\_subj}] Whether the subject started with ``Re:'', ``RE:'', ``re:'', or ``rE:''\n",
       "\\item[\\code{exclaim\\_subj}] Whether there was an exclamation point in the subject.\n",
       "\\item[\\code{urgent\\_subj}] Whether the word ``urgent'' was in the email subject.\n",
       "\\item[\\code{exclaim\\_mess}] The number of exclamation points in the email message.\n",
       "\n",
       "\n",
       "\\item[\\code{number}] Factor variable saying whether there was no number, a small number (under 1 million), or a big number.\n",
       "\n",
       "\\end{description}\n",
       "\n",
       "\\end{Format}\n",
       "%\n",
       "\\begin{Source}\\relax\n",
       " David Diez's Gmail Account, early months of 2012. All personally identifiable information has been removed. \n",
       "\\end{Source}\n",
       "%\n",
       "\\begin{References}\\relax\n",
       "\\textasciitilde{}\\textasciitilde{} OpenIntro Statistics, \\Rhref{http://www.openintro.org/stat/textbook.php}{openintro.org} \\textasciitilde{}\\textasciitilde{}\n",
       "\\end{References}\n",
       "%\n",
       "\\begin{SeeAlso}\\relax\n",
       " \\code{\\LinkA{email}{email}}, \\code{\\LinkA{county}{county}} \n",
       "\\end{SeeAlso}\n",
       "%\n",
       "\\begin{Examples}\n",
       "\\begin{ExampleCode}\n",
       "data(email50)\n",
       "data(email)\n",
       "set.seed(5)\n",
       "d  <- email[sample(nrow(email), 50),][c(1:25,27:50,26),]\n",
       "identical(d, email50)\n",
       "\n",
       "# the \"[c(1,26,2:25,27:50),]\" was added to reorder the cases\n",
       "\\end{ExampleCode}\n",
       "\\end{Examples}"
      ],
      "text/plain": [
       "email50               package:openintro                R Documentation\n",
       "\n",
       "_\bS_\ba_\bm_\bp_\bl_\be _\bo_\bf _\b5_\b0 _\be_\bm_\ba_\bi_\bl_\bs\n",
       "\n",
       "_\bD_\be_\bs_\bc_\br_\bi_\bp_\bt_\bi_\bo_\bn:\n",
       "\n",
       "     This is a subsample of the 'email' data set.\n",
       "\n",
       "_\bU_\bs_\ba_\bg_\be:\n",
       "\n",
       "     data(email50)\n",
       "     \n",
       "_\bF_\bo_\br_\bm_\ba_\bt:\n",
       "\n",
       "     A data frame with 50 observations on the following 21 variables.\n",
       "\n",
       "     'spam' Indicator for whether the email was spam.\n",
       "\n",
       "     'to_multiple' Indicator for whether the email was addressed to\n",
       "          more than one recipient.\n",
       "\n",
       "     'from' Whether the message was listed as from anyone (this is\n",
       "          usually set by default for regular outgoing email).\n",
       "\n",
       "     'cc' Indicator for whether anyone was CCed.\n",
       "\n",
       "     'sent_email' Indicator for whether the sender had been sent an\n",
       "          email in the last 30 days.\n",
       "\n",
       "     'time' Time at which email was sent.\n",
       "\n",
       "     'image' The number of images attached.\n",
       "\n",
       "     'attach' The number of attached files.\n",
       "\n",
       "     'dollar' The number of times a dollar sign or the word \"dollar\"\n",
       "          appeared in the email.\n",
       "\n",
       "     'winner' Indicates whether \"winner\" appeared in the email.\n",
       "\n",
       "     'inherit' The number of times \"inherit\" (or an extension, such as\n",
       "          \"inheritance\") appeared in the email.\n",
       "\n",
       "     'viagra' The number of times \"viagra\" appeared in the email.\n",
       "\n",
       "     'password' The number of times \"password\" appeared in the email.\n",
       "\n",
       "     'num_char' The number of characters in the email, in thousands.\n",
       "\n",
       "     'line_breaks' The number of line breaks in the email (does not\n",
       "          count text wrapping).\n",
       "\n",
       "     'format' Indicates whether the email was written using HTML (e.g.\n",
       "          may have included bolding or active links).\n",
       "\n",
       "     're_subj' Whether the subject started with \"Re:\", \"RE:\", \"re:\", or\n",
       "          \"rE:\"\n",
       "\n",
       "     'exclaim_subj' Whether there was an exclamation point in the\n",
       "          subject.\n",
       "\n",
       "     'urgent_subj' Whether the word \"urgent\" was in the email subject.\n",
       "\n",
       "     'exclaim_mess' The number of exclamation points in the email\n",
       "          message.\n",
       "\n",
       "     'number' Factor variable saying whether there was no number, a\n",
       "          small number (under 1 million), or a big number.\n",
       "\n",
       "_\bS_\bo_\bu_\br_\bc_\be:\n",
       "\n",
       "     David Diez's Gmail Account, early months of 2012. All personally\n",
       "     identifiable information has been removed.\n",
       "\n",
       "_\bR_\be_\bf_\be_\br_\be_\bn_\bc_\be_\bs:\n",
       "\n",
       "     ~~ OpenIntro Statistics, openintro.org ~~\n",
       "\n",
       "_\bS_\be_\be _\bA_\bl_\bs_\bo:\n",
       "\n",
       "     'email', 'county'\n",
       "\n",
       "_\bE_\bx_\ba_\bm_\bp_\bl_\be_\bs:\n",
       "\n",
       "     data(email50)\n",
       "     data(email)\n",
       "     set.seed(5)\n",
       "     d  <- email[sample(nrow(email), 50),][c(1:25,27:50,26),]\n",
       "     identical(d, email50)\n",
       "     \n",
       "     # the \"[c(1,26,2:25,27:50),]\" was added to reorder the cases\n",
       "     "
      ]
     },
     "metadata": {},
     "output_type": "display_data"
    }
   ],
   "source": [
    "?email50"
   ]
  },
  {
   "cell_type": "markdown",
   "metadata": {},
   "source": [
    "## Categorical Data in R: Factors\n",
    "- Often stored as factors in R\n",
    " - Important use: statistical modeling\n",
    " - Sometimes undesirable, sometimes essential\n",
    "- Common ins subgroup analysis\n",
    " - Only interested in a subset of the data\n",
    " - Filter for specific levels of categorical variable\n",
    " - Options\n",
    "     - Table to explore (number of students in public and private schools in hsb2)\n",
    "     - table(hsb2\\\\$schtyp)\n",
    "     - public private\n",
    "     - 168, 32\n",
    " - Filter to subset\n",
    "  - dplyr \n",
    "  - (filter for public schools)\n",
    "   - hsb2_public <- hsb2 %>% filter(schtyp == \"public\")\n",
    " - The pipe operator\n",
    "  - %>%\n",
    "  - Tells the function to pass the object that comes before it to the function that comes after it.\n",
    " - Filter to subset\n",
    "  - double equal sign \"==\" this is the logical test for \"is equal to\"\n",
    "  - when you filter the data you are still going to see the labels for the other categories with zero values. This is due to the fact that the values were filtered out but the categorical bucket remained.\n",
    "  - to remove the unused buckets use the droplevels function:\n",
    "    - # Drop unused levels\n",
    "    - hsb2_public\\\\$schtyp <- droplevels(hsb2_public\\\\$schtyp)\n",
    "    \n",
    "  \n",
    "  \n",
    " \n",
    " \n",
    " "
   ]
  },
  {
   "cell_type": "markdown",
   "metadata": {},
   "source": [
    "## Filtering based on a factor\n",
    "Categorical data are often stored as factors in R. In this exercise, we'll practice working with a factor variable, number, from the email50 dataset. This variable tells us what type of number (none, small, or big) an email contains.\n",
    "\n",
    "Recall from the video that the filter() function from dplyr can be used to filter a dataset to create a subset containing only certain levels of a variable. For example, the following code filters the mtcars dataset for cars containing 6 cylinders:\n",
    "\n",
    "mtcars %>%\n",
    "  filter(cyl == 6)"
   ]
  },
  {
   "cell_type": "markdown",
   "metadata": {},
   "source": [
    "- Create a new dataset called email50_big that is a subset of the original email50 dataset containing only emails with \"big\" numbers. This information is stored in the number variable.\n",
    "- Report the dimensions of email50_big using the glimpse() function again. How many emails contain big numbers?"
   ]
  },
  {
   "cell_type": "code",
   "execution_count": 12,
   "metadata": {},
   "outputs": [],
   "source": [
    "email50_big <- email50 %>% filter(number==\"big\")"
   ]
  },
  {
   "cell_type": "code",
   "execution_count": 13,
   "metadata": {},
   "outputs": [
    {
     "name": "stdout",
     "output_type": "stream",
     "text": [
      "Observations: 7\n",
      "Variables: 21\n",
      "$ spam         <dbl> 0, 0, 1, 0, 0, 0, 0\n",
      "$ to_multiple  <dbl> 0, 0, 0, 0, 0, 0, 0\n",
      "$ from         <dbl> 1, 1, 1, 1, 1, 1, 1\n",
      "$ cc           <int> 0, 0, 0, 0, 0, 0, 0\n",
      "$ sent_email   <dbl> 0, 0, 0, 0, 0, 1, 0\n",
      "$ time         <dttm> 2012-02-16 15:10:06, 2012-02-04 18:26:09, 2012-01-24 ...\n",
      "$ image        <dbl> 0, 0, 0, 0, 0, 0, 0\n",
      "$ attach       <dbl> 0, 0, 0, 0, 0, 0, 0\n",
      "$ dollar       <dbl> 0, 0, 3, 2, 0, 0, 0\n",
      "$ winner       <fctr> no, no, yes, no, no, no, no\n",
      "$ inherit      <dbl> 0, 0, 0, 0, 0, 0, 0\n",
      "$ viagra       <dbl> 0, 0, 0, 0, 0, 0, 0\n",
      "$ password     <dbl> 0, 2, 0, 0, 0, 0, 8\n",
      "$ num_char     <dbl> 7.011, 10.368, 42.793, 26.520, 6.563, 11.223, 10.613\n",
      "$ line_breaks  <int> 183, 198, 712, 692, 140, 512, 225\n",
      "$ format       <dbl> 1, 1, 1, 1, 1, 1, 1\n",
      "$ re_subj      <dbl> 0, 0, 0, 0, 0, 0, 0\n",
      "$ exclaim_subj <dbl> 0, 0, 0, 1, 0, 0, 0\n",
      "$ urgent_subj  <dbl> 0, 0, 0, 0, 0, 0, 0\n",
      "$ exclaim_mess <dbl> 1, 1, 2, 7, 2, 9, 9\n",
      "$ number       <fctr> big, big, big, big, big, big, big\n"
     ]
    }
   ],
   "source": [
    "glimpse(email50_big)"
   ]
  },
  {
   "cell_type": "markdown",
   "metadata": {},
   "source": [
    "## Complete filtering based on a factor\n",
    "\n",
    "The droplevels() function removes unused levels of factor variables from our dataset. As we saw in the video, it's often useful to determine which levels are unused (i.e. contain zero values) with the table() function.\n",
    "\n",
    "In this exercise, we'll see which levels of the number variable are dropped after applying the droplevels() function."
   ]
  },
  {
   "cell_type": "markdown",
   "metadata": {},
   "source": [
    "- Make a table() of the number variable in the email50_big dataset. Which two levels are unused?\n",
    "- Apply the droplevels() function to the number variable. Assign the result back to email50_big$number.\n",
    "- Remake the table() of the number variable in the email50_big dataset. How is this output different from the first?"
   ]
  },
  {
   "cell_type": "code",
   "execution_count": 14,
   "metadata": {},
   "outputs": [
    {
     "data": {
      "text/plain": [
       "\n",
       " none small   big \n",
       "    0     0     7 "
      ]
     },
     "metadata": {},
     "output_type": "display_data"
    }
   ],
   "source": [
    "# Table of the number variable\n",
    "table(email50_big$number)"
   ]
  },
  {
   "cell_type": "code",
   "execution_count": 15,
   "metadata": {},
   "outputs": [],
   "source": [
    "# Drop levels\n",
    "email50_big$number<-droplevels(email50_big$number)"
   ]
  },
  {
   "cell_type": "code",
   "execution_count": 16,
   "metadata": {},
   "outputs": [
    {
     "data": {
      "text/plain": [
       "\n",
       "big \n",
       "  7 "
      ]
     },
     "metadata": {},
     "output_type": "display_data"
    }
   ],
   "source": [
    "table(email50_big$number)"
   ]
  },
  {
   "cell_type": "markdown",
   "metadata": {},
   "source": [
    "### Did you notice that dropping the levels of the number variable gets rid of the levels with counts of zero? This will be useful when you're creating visualizations later on"
   ]
  },
  {
   "cell_type": "markdown",
   "metadata": {},
   "source": [
    "## Discretizing a Variable"
   ]
  },
  {
   "cell_type": "markdown",
   "metadata": {},
   "source": [
    "### Discretize a different variable\n",
    "In this exercise, we'll create a categorical version of the num_char variable in the email50 dataset. num_char is the number of characters in an email, in thousands. This new variable will have two levels (\"below median\" and \"at or above median\") depending on whether an email has less than the median number of characters or equal to or more than that value. \n",
    "\n",
    "The median marks the 50th percentile, or midpoint, of a distribution, so half of the emails should fall in one category and the other half in the other. You will learn more about the median and other measures of center in the next course in this series."
   ]
  },
  {
   "cell_type": "markdown",
   "metadata": {},
   "source": [
    "The email50 dataset is available in your workspace.\n",
    "\n",
    "- Find the median number of characters in emails, save the result as med_num_char.\n",
    "\n",
    "- Using mutate(), create a new column called num_char_cat, which discretizes the num_char variable into \"below median\" or \"at or above median\". Assign the result to email50_fortified.\n",
    "- Then, using count(), determine the number of emails in each level of num_char_cat. Evaluate whether these counts match the expected numbers."
   ]
  },
  {
   "cell_type": "code",
   "execution_count": 17,
   "metadata": {},
   "outputs": [],
   "source": [
    "# Calculate median number of characters: med_num_char\n",
    "med_num_char<-median(email50$num_char)"
   ]
  },
  {
   "cell_type": "code",
   "execution_count": 18,
   "metadata": {},
   "outputs": [
    {
     "data": {
      "text/html": [
       "6.8895"
      ],
      "text/latex": [
       "6.8895"
      ],
      "text/markdown": [
       "6.8895"
      ],
      "text/plain": [
       "[1] 6.8895"
      ]
     },
     "metadata": {},
     "output_type": "display_data"
    }
   ],
   "source": [
    "med_num_char"
   ]
  },
  {
   "cell_type": "code",
   "execution_count": 19,
   "metadata": {},
   "outputs": [],
   "source": [
    "# Create num_char_cat variable in email50\n",
    "email50_fortified<-email50 %>% mutate(num_char_cat = ifelse(num_char < med_num_char, \"below median\", \"at or above median\"))\n",
    "  "
   ]
  },
  {
   "cell_type": "code",
   "execution_count": 20,
   "metadata": {},
   "outputs": [
    {
     "data": {
      "text/html": [
       "<table>\n",
       "<thead><tr><th scope=col>spam</th><th scope=col>to_multiple</th><th scope=col>from</th><th scope=col>cc</th><th scope=col>sent_email</th><th scope=col>time</th><th scope=col>image</th><th scope=col>attach</th><th scope=col>dollar</th><th scope=col>winner</th><th scope=col>...</th><th scope=col>password</th><th scope=col>num_char</th><th scope=col>line_breaks</th><th scope=col>format</th><th scope=col>re_subj</th><th scope=col>exclaim_subj</th><th scope=col>urgent_subj</th><th scope=col>exclaim_mess</th><th scope=col>number</th><th scope=col>num_char_cat</th></tr></thead>\n",
       "<tbody>\n",
       "\t<tr><td>0                  </td><td>0                  </td><td>1                  </td><td>0                  </td><td>1                  </td><td>2012-01-04 08:19:16</td><td>0                  </td><td>0                  </td><td>0                  </td><td>no                 </td><td>...                </td><td>0                  </td><td>21.705             </td><td> 551               </td><td>1                  </td><td>1                  </td><td>0                  </td><td>0                  </td><td> 8                 </td><td>small              </td><td>at or above median </td></tr>\n",
       "\t<tr><td>0                  </td><td>0                  </td><td>1                  </td><td>0                  </td><td>0                  </td><td>2012-02-16 15:10:06</td><td>0                  </td><td>0                  </td><td>0                  </td><td>no                 </td><td>...                </td><td>0                  </td><td> 7.011             </td><td> 183               </td><td>1                  </td><td>0                  </td><td>0                  </td><td>0                  </td><td> 1                 </td><td>big                </td><td>at or above median </td></tr>\n",
       "\t<tr><td>1                  </td><td>0                  </td><td>1                  </td><td>4                  </td><td>0                  </td><td>2012-01-04 10:36:23</td><td>0                  </td><td>2                  </td><td>0                  </td><td>no                 </td><td>...                </td><td>0                  </td><td> 0.631             </td><td>  28               </td><td>0                  </td><td>0                  </td><td>0                  </td><td>0                  </td><td> 2                 </td><td>none               </td><td>below median       </td></tr>\n",
       "\t<tr><td>0                  </td><td>0                  </td><td>1                  </td><td>0                  </td><td>0                  </td><td>2012-01-04 12:49:52</td><td>0                  </td><td>0                  </td><td>0                  </td><td>no                 </td><td>...                </td><td>0                  </td><td> 2.454             </td><td>  61               </td><td>0                  </td><td>0                  </td><td>0                  </td><td>0                  </td><td> 1                 </td><td>small              </td><td>below median       </td></tr>\n",
       "\t<tr><td>0                  </td><td>0                  </td><td>1                  </td><td>0                  </td><td>0                  </td><td>2012-01-27 04:34:45</td><td>0                  </td><td>0                  </td><td>9                  </td><td>no                 </td><td>...                </td><td>1                  </td><td>41.623             </td><td>1088               </td><td>1                  </td><td>0                  </td><td>0                  </td><td>0                  </td><td>43                 </td><td>small              </td><td>at or above median </td></tr>\n",
       "\t<tr><td>0                  </td><td>0                  </td><td>1                  </td><td>0                  </td><td>0                  </td><td>2012-01-17 12:31:57</td><td>0                  </td><td>0                  </td><td>0                  </td><td>no                 </td><td>...                </td><td>0                  </td><td> 0.057             </td><td>   5               </td><td>0                  </td><td>0                  </td><td>0                  </td><td>0                  </td><td> 0                 </td><td>small              </td><td>below median       </td></tr>\n",
       "</tbody>\n",
       "</table>\n"
      ],
      "text/latex": [
       "\\begin{tabular}{r|llllllllllllllllllllll}\n",
       " spam & to\\_multiple & from & cc & sent\\_email & time & image & attach & dollar & winner & ... & password & num\\_char & line\\_breaks & format & re\\_subj & exclaim\\_subj & urgent\\_subj & exclaim\\_mess & number & num\\_char\\_cat\\\\\n",
       "\\hline\n",
       "\t 0                   & 0                   & 1                   & 0                   & 1                   & 2012-01-04 08:19:16 & 0                   & 0                   & 0                   & no                  & ...                 & 0                   & 21.705              &  551                & 1                   & 1                   & 0                   & 0                   &  8                  & small               & at or above median \\\\\n",
       "\t 0                   & 0                   & 1                   & 0                   & 0                   & 2012-02-16 15:10:06 & 0                   & 0                   & 0                   & no                  & ...                 & 0                   &  7.011              &  183                & 1                   & 0                   & 0                   & 0                   &  1                  & big                 & at or above median \\\\\n",
       "\t 1                   & 0                   & 1                   & 4                   & 0                   & 2012-01-04 10:36:23 & 0                   & 2                   & 0                   & no                  & ...                 & 0                   &  0.631              &   28                & 0                   & 0                   & 0                   & 0                   &  2                  & none                & below median       \\\\\n",
       "\t 0                   & 0                   & 1                   & 0                   & 0                   & 2012-01-04 12:49:52 & 0                   & 0                   & 0                   & no                  & ...                 & 0                   &  2.454              &   61                & 0                   & 0                   & 0                   & 0                   &  1                  & small               & below median       \\\\\n",
       "\t 0                   & 0                   & 1                   & 0                   & 0                   & 2012-01-27 04:34:45 & 0                   & 0                   & 9                   & no                  & ...                 & 1                   & 41.623              & 1088                & 1                   & 0                   & 0                   & 0                   & 43                  & small               & at or above median \\\\\n",
       "\t 0                   & 0                   & 1                   & 0                   & 0                   & 2012-01-17 12:31:57 & 0                   & 0                   & 0                   & no                  & ...                 & 0                   &  0.057              &    5                & 0                   & 0                   & 0                   & 0                   &  0                  & small               & below median       \\\\\n",
       "\\end{tabular}\n"
      ],
      "text/markdown": [
       "\n",
       "spam | to_multiple | from | cc | sent_email | time | image | attach | dollar | winner | ... | password | num_char | line_breaks | format | re_subj | exclaim_subj | urgent_subj | exclaim_mess | number | num_char_cat | \n",
       "|---|---|---|---|---|---|\n",
       "| 0                   | 0                   | 1                   | 0                   | 1                   | 2012-01-04 08:19:16 | 0                   | 0                   | 0                   | no                  | ...                 | 0                   | 21.705              |  551                | 1                   | 1                   | 0                   | 0                   |  8                  | small               | at or above median  | \n",
       "| 0                   | 0                   | 1                   | 0                   | 0                   | 2012-02-16 15:10:06 | 0                   | 0                   | 0                   | no                  | ...                 | 0                   |  7.011              |  183                | 1                   | 0                   | 0                   | 0                   |  1                  | big                 | at or above median  | \n",
       "| 1                   | 0                   | 1                   | 4                   | 0                   | 2012-01-04 10:36:23 | 0                   | 2                   | 0                   | no                  | ...                 | 0                   |  0.631              |   28                | 0                   | 0                   | 0                   | 0                   |  2                  | none                | below median        | \n",
       "| 0                   | 0                   | 1                   | 0                   | 0                   | 2012-01-04 12:49:52 | 0                   | 0                   | 0                   | no                  | ...                 | 0                   |  2.454              |   61                | 0                   | 0                   | 0                   | 0                   |  1                  | small               | below median        | \n",
       "| 0                   | 0                   | 1                   | 0                   | 0                   | 2012-01-27 04:34:45 | 0                   | 0                   | 9                   | no                  | ...                 | 1                   | 41.623              | 1088                | 1                   | 0                   | 0                   | 0                   | 43                  | small               | at or above median  | \n",
       "| 0                   | 0                   | 1                   | 0                   | 0                   | 2012-01-17 12:31:57 | 0                   | 0                   | 0                   | no                  | ...                 | 0                   |  0.057              |    5                | 0                   | 0                   | 0                   | 0                   |  0                  | small               | below median        | \n",
       "\n",
       "\n"
      ],
      "text/plain": [
       "  spam to_multiple from cc sent_email time                image attach dollar\n",
       "1 0    0           1    0  1          2012-01-04 08:19:16 0     0      0     \n",
       "2 0    0           1    0  0          2012-02-16 15:10:06 0     0      0     \n",
       "3 1    0           1    4  0          2012-01-04 10:36:23 0     2      0     \n",
       "4 0    0           1    0  0          2012-01-04 12:49:52 0     0      0     \n",
       "5 0    0           1    0  0          2012-01-27 04:34:45 0     0      9     \n",
       "6 0    0           1    0  0          2012-01-17 12:31:57 0     0      0     \n",
       "  winner ... password num_char line_breaks format re_subj exclaim_subj\n",
       "1 no     ... 0        21.705    551        1      1       0           \n",
       "2 no     ... 0         7.011    183        1      0       0           \n",
       "3 no     ... 0         0.631     28        0      0       0           \n",
       "4 no     ... 0         2.454     61        0      0       0           \n",
       "5 no     ... 1        41.623   1088        1      0       0           \n",
       "6 no     ... 0         0.057      5        0      0       0           \n",
       "  urgent_subj exclaim_mess number num_char_cat      \n",
       "1 0            8           small  at or above median\n",
       "2 0            1           big    at or above median\n",
       "3 0            2           none   below median      \n",
       "4 0            1           small  below median      \n",
       "5 0           43           small  at or above median\n",
       "6 0            0           small  below median      "
      ]
     },
     "metadata": {},
     "output_type": "display_data"
    }
   ],
   "source": [
    "head(email50_fortified)"
   ]
  },
  {
   "cell_type": "code",
   "execution_count": 21,
   "metadata": {},
   "outputs": [
    {
     "data": {
      "text/html": [
       "<table>\n",
       "<thead><tr><th scope=col>num_char_cat</th><th scope=col>n</th></tr></thead>\n",
       "<tbody>\n",
       "\t<tr><td>at or above median</td><td>25                </td></tr>\n",
       "\t<tr><td>below median      </td><td>25                </td></tr>\n",
       "</tbody>\n",
       "</table>\n"
      ],
      "text/latex": [
       "\\begin{tabular}{r|ll}\n",
       " num\\_char\\_cat & n\\\\\n",
       "\\hline\n",
       "\t at or above median & 25                \\\\\n",
       "\t below median       & 25                \\\\\n",
       "\\end{tabular}\n"
      ],
      "text/markdown": [
       "\n",
       "num_char_cat | n | \n",
       "|---|---|\n",
       "| at or above median | 25                 | \n",
       "| below median       | 25                 | \n",
       "\n",
       "\n"
      ],
      "text/plain": [
       "  num_char_cat       n \n",
       "1 at or above median 25\n",
       "2 below median       25"
      ]
     },
     "metadata": {},
     "output_type": "display_data"
    }
   ],
   "source": [
    "# Count emails in each category\n",
    "email50_fortified %>% count(num_char_cat)"
   ]
  },
  {
   "cell_type": "markdown",
   "metadata": {},
   "source": [
    "Great job! As you can see, half of the observations are below the median and half are above the median. Makes sense, doesn't it?"
   ]
  },
  {
   "cell_type": "markdown",
   "metadata": {},
   "source": [
    "##  Combining levels of a different factor\n",
    "Another common way of creating a new variable based on an existing one is by combining levels of a categorical variable. For example, the email50 dataset has a categorical variable called number with levels \"none\", \"small\", and \"big\", but suppose we're only interested in whether an email contains a number. In this exercise, we will create a variable containing this information and also visualize it.\n",
    "\n",
    "For now, do your best to understand the code we've provided to generate the plot. We will go through it in detail in the next video."
   ]
  },
  {
   "cell_type": "markdown",
   "metadata": {},
   "source": [
    "- Create a new column in email50 called number_yn that is \"no\" if there is no number in the email and \"yes\" otherwise. Use case_when() for this. Assign this to email50_fortified.\n",
    "- Run the code provided to visualize the distribution of the number_yn variable."
   ]
  },
  {
   "cell_type": "code",
   "execution_count": 22,
   "metadata": {},
   "outputs": [],
   "source": [
    "# Create number_yn column in email50\n",
    "email50_fortified<- email50 %>% mutate(number_yn = case_when( number==\"none\" ~ \"no\", # if number is \"none\", make number_yn \"no\"\n",
    "                                                           number!=\"none\" ~ \"yes\" # if number is not \"none\", make number_yn \"yes\"\n",
    "                                                            )\n",
    "                                      )"
   ]
  },
  {
   "cell_type": "code",
   "execution_count": 23,
   "metadata": {},
   "outputs": [],
   "source": [
    "counts <- table(email50_fortified$number_yn)"
   ]
  },
  {
   "cell_type": "code",
   "execution_count": 24,
   "metadata": {},
   "outputs": [
    {
     "data": {
      "image/png": "[encoded data removed]",
      "text/plain": [
       "plot without title"
      ]
     },
     "metadata": {},
     "output_type": "display_data",
     "source": "R display func"
    }
   ],
   "source": [
    "barplot(counts)"
   ]
  },
  {
   "cell_type": "markdown",
   "metadata": {},
   "source": [
    "## Visualizing numerical and categorical data\n",
    "\n",
    "In this exercise, we'll visualize the relationship between two numerical variables from the email50 dataset, conditioned on whether or not the email was spam. This means that we will use an aspect of the plot (like color or shape) to identify the levels in the spam variable so that we can compare plotted values between them.\n",
    "\n",
    "Recall that in the ggplot() function, the first argument is the dataset, then we map the aesthetic features of the plot to variables in the dataset, and finally the geom_*() layer informs how data are represented on the plot. In this exercise, we will make a scatterplot by adding a geom_point() layer to the ggplot() call."
   ]
  },
  {
   "cell_type": "markdown",
   "metadata": {},
   "source": [
    "- Create a scatterplot of number of exclamation points (exclaim_mess) on the y-axis vs. number of characters (num_char) on the x-axis.\n",
    "- Color points by whether or not the email is spam.\n",
    "- Note that the spam variable is stored as numerical (0/1) but we want to use it as a categorical variable in this plot. To do this, force R to think of it as such with the factor() function. \n",
    "- Based on the plot, does there appear to be a relationship between these variables?"
   ]
  },
  {
   "cell_type": "code",
   "execution_count": 25,
   "metadata": {},
   "outputs": [
    {
     "ename": "ERROR",
     "evalue": "Error in library(ggplot2): there is no package called 'ggplot2'\n",
     "execution_count": 25,
     "output_type": "error",
     "traceback": [
      "Error in library(ggplot2): there is no package called 'ggplot2'\nTraceback:\n",
      "1. library(ggplot2)",
      "2. stop(txt, domain = NA)"
     ]
    }
   ],
   "source": [
    "# Load ggplot2\n",
    "library(ggplot2)\n",
    "\n",
    "# Scatterplot of exclaim_mess vs. num_char\n",
    "ggplot(email50, aes(x = num_char, y = exclaim_mess, color = factor(spam))) +\n",
    "  geom_point()"
   ]
  },
  {
   "cell_type": "markdown",
   "metadata": {},
   "source": [
    "Excellent work! Note how ggplot2 automatically creates a helpful legend for the plot, telling you which color corresponds to each level of the spam variable. "
   ]
  },
  {
   "cell_type": "code",
   "execution_count": 27,
   "metadata": {},
   "outputs": [
    {
     "data": {
      "image/png": "[encoded data removed]",
      "text/plain": [
       "plot without title"
      ]
     },
     "metadata": {},
     "output_type": "display_data",
     "source": "R display func"
    }
   ],
   "source": [
    "plot(x=email50$num_char, y=email50$exclaim_mess)"
   ]
  },
  {
   "cell_type": "code",
   "execution_count": null,
   "metadata": {},
   "outputs": [],
   "source": []
  }
 ],
 "metadata": {
  "kernelspec": {
   "display_name": "R",
   "language": "R",
   "name": "ir"
  },
  "language_info": {
   "codemirror_mode": "r",
   "file_extension": ".r",
   "mimetype": "text/x-r-source",
   "name": "R",
   "pygments_lexer": "r",
   "version": "3.4.3"
  }
 },
 "nbformat": 4,
 "nbformat_minor": 2
}
