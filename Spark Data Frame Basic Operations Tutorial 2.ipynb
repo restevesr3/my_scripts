{
 "cells": [
  {
   "cell_type": "markdown",
   "metadata": {},
   "source": [
    "## Spark Tutorial 2 - Spark DataFrame Basic Operations"
   ]
  },
  {
   "cell_type": "code",
   "execution_count": 1,
   "metadata": {},
   "outputs": [],
   "source": [
    "from pyspark.sql import SparkSession"
   ]
  },
  {
   "cell_type": "code",
   "execution_count": 2,
   "metadata": {},
   "outputs": [],
   "source": [
    "spark = SparkSession.builder.appName('ops').getOrCreate()"
   ]
  },
  {
   "cell_type": "markdown",
   "metadata": {},
   "source": [
    "## When you are using a CSV file as your data source you can infer the Schema"
   ]
  },
  {
   "cell_type": "code",
   "execution_count": 3,
   "metadata": {},
   "outputs": [],
   "source": [
    "source_file = '/home/robert/Downloads/Python-and-Spark-for-Big-Data-master/Spark_DataFrames/appl_stock.csv'"
   ]
  },
  {
   "cell_type": "code",
   "execution_count": 5,
   "metadata": {},
   "outputs": [],
   "source": [
    "df = spark.read.csv(source_file, inferSchema=True, header=True)"
   ]
  },
  {
   "cell_type": "code",
   "execution_count": 7,
   "metadata": {},
   "outputs": [
    {
     "name": "stdout",
     "output_type": "stream",
     "text": [
      "root\n",
      " |-- Date: timestamp (nullable = true)\n",
      " |-- Open: double (nullable = true)\n",
      " |-- High: double (nullable = true)\n",
      " |-- Low: double (nullable = true)\n",
      " |-- Close: double (nullable = true)\n",
      " |-- Volume: integer (nullable = true)\n",
      " |-- Adj Close: double (nullable = true)\n",
      "\n"
     ]
    }
   ],
   "source": [
    "df.printSchema()"
   ]
  },
  {
   "cell_type": "code",
   "execution_count": 10,
   "metadata": {},
   "outputs": [
    {
     "data": {
      "text/plain": [
       "Row(Date=datetime.datetime(2010, 1, 4, 0, 0), Open=213.429998, High=214.499996, Low=212.38000099999996, Close=214.009998, Volume=123432400, Adj Close=27.727039)"
      ]
     },
     "execution_count": 10,
     "metadata": {},
     "output_type": "execute_result"
    }
   ],
   "source": [
    "df.head(3)[0]"
   ]
  },
  {
   "cell_type": "code",
   "execution_count": 8,
   "metadata": {},
   "outputs": [
    {
     "name": "stdout",
     "output_type": "stream",
     "text": [
      "+-------------------+------------------+------------------+------------------+------------------+---------+------------------+\n",
      "|               Date|              Open|              High|               Low|             Close|   Volume|         Adj Close|\n",
      "+-------------------+------------------+------------------+------------------+------------------+---------+------------------+\n",
      "|2010-01-04 00:00:00|        213.429998|        214.499996|212.38000099999996|        214.009998|123432400|         27.727039|\n",
      "|2010-01-05 00:00:00|        214.599998|        215.589994|        213.249994|        214.379993|150476200|27.774976000000002|\n",
      "|2010-01-06 00:00:00|        214.379993|            215.23|        210.750004|        210.969995|138040000|27.333178000000004|\n",
      "|2010-01-07 00:00:00|            211.75|        212.000006|        209.050005|            210.58|119282800|          27.28265|\n",
      "|2010-01-08 00:00:00|        210.299994|        212.000006|209.06000500000002|211.98000499999998|111902700|         27.464034|\n",
      "|2010-01-11 00:00:00|212.79999700000002|        213.000002|        208.450005|210.11000299999998|115557400|         27.221758|\n",
      "|2010-01-12 00:00:00|209.18999499999998|209.76999500000002|        206.419998|        207.720001|148614900|          26.91211|\n",
      "|2010-01-13 00:00:00|        207.870005|210.92999500000002|        204.099998|        210.650002|151473000|          27.29172|\n",
      "|2010-01-14 00:00:00|210.11000299999998|210.45999700000002|        209.020004|            209.43|108223500|         27.133657|\n",
      "|2010-01-15 00:00:00|210.92999500000002|211.59999700000003|        205.869999|            205.93|148516900|26.680197999999997|\n",
      "|2010-01-19 00:00:00|        208.330002|215.18999900000003|        207.240004|        215.039995|182501900|27.860484999999997|\n",
      "|2010-01-20 00:00:00|        214.910006|        215.549994|        209.500002|            211.73|153038200|         27.431644|\n",
      "|2010-01-21 00:00:00|        212.079994|213.30999599999998|        207.210003|        208.069996|152038600|         26.957455|\n",
      "|2010-01-22 00:00:00|206.78000600000001|        207.499996|            197.16|            197.75|220441900|         25.620401|\n",
      "|2010-01-25 00:00:00|202.51000200000001|        204.699999|        200.190002|        203.070002|266424900|26.309658000000002|\n",
      "|2010-01-26 00:00:00|205.95000100000001|        213.710005|        202.580004|        205.940001|466777500|         26.681494|\n",
      "|2010-01-27 00:00:00|        206.849995|            210.58|        199.530001|        207.880005|430642100|26.932840000000002|\n",
      "|2010-01-28 00:00:00|        204.930004|        205.500004|        198.699995|        199.289995|293375600|25.819922000000002|\n",
      "|2010-01-29 00:00:00|        201.079996|        202.199995|        190.250002|        192.060003|311488100|         24.883208|\n",
      "|2010-02-01 00:00:00|192.36999699999998|             196.0|191.29999899999999|        194.729998|187469100|         25.229131|\n",
      "+-------------------+------------------+------------------+------------------+------------------+---------+------------------+\n",
      "only showing top 20 rows\n",
      "\n"
     ]
    }
   ],
   "source": [
    "df.show()"
   ]
  },
  {
   "cell_type": "markdown",
   "metadata": {},
   "source": [
    "## How to use SQL syntax with the data frame?"
   ]
  },
  {
   "cell_type": "code",
   "execution_count": 14,
   "metadata": {},
   "outputs": [
    {
     "name": "stdout",
     "output_type": "stream",
     "text": [
      "+-------------------+------------------+------------------+\n",
      "|               Date|              Open|             Close|\n",
      "+-------------------+------------------+------------------+\n",
      "|2010-01-04 00:00:00|        213.429998|        214.009998|\n",
      "|2010-01-05 00:00:00|        214.599998|        214.379993|\n",
      "|2010-01-06 00:00:00|        214.379993|        210.969995|\n",
      "|2010-01-07 00:00:00|            211.75|            210.58|\n",
      "|2010-01-08 00:00:00|        210.299994|211.98000499999998|\n",
      "|2010-01-11 00:00:00|212.79999700000002|210.11000299999998|\n",
      "|2010-01-12 00:00:00|209.18999499999998|        207.720001|\n",
      "|2010-01-13 00:00:00|        207.870005|        210.650002|\n",
      "|2010-01-14 00:00:00|210.11000299999998|            209.43|\n",
      "|2010-01-15 00:00:00|210.92999500000002|            205.93|\n",
      "|2010-01-19 00:00:00|        208.330002|        215.039995|\n",
      "|2010-01-20 00:00:00|        214.910006|            211.73|\n",
      "|2010-01-21 00:00:00|        212.079994|        208.069996|\n",
      "|2010-01-22 00:00:00|206.78000600000001|            197.75|\n",
      "|2010-01-25 00:00:00|202.51000200000001|        203.070002|\n",
      "|2010-01-26 00:00:00|205.95000100000001|        205.940001|\n",
      "|2010-01-27 00:00:00|        206.849995|        207.880005|\n",
      "|2010-01-28 00:00:00|        204.930004|        199.289995|\n",
      "|2010-01-29 00:00:00|        201.079996|        192.060003|\n",
      "|2010-02-01 00:00:00|192.36999699999998|        194.729998|\n",
      "+-------------------+------------------+------------------+\n",
      "only showing top 20 rows\n",
      "\n"
     ]
    }
   ],
   "source": [
    "df.filter(\"Close < 500\").select(['Date', 'Open', 'Close']).show()"
   ]
  },
  {
   "cell_type": "markdown",
   "metadata": {},
   "source": [
    "## How to filter the Pythonic way"
   ]
  },
  {
   "cell_type": "code",
   "execution_count": 16,
   "metadata": {},
   "outputs": [
    {
     "name": "stdout",
     "output_type": "stream",
     "text": [
      "+-------------------+------------------+------------------+\n",
      "|               Date|              Open|             Close|\n",
      "+-------------------+------------------+------------------+\n",
      "|2010-01-04 00:00:00|        213.429998|        214.009998|\n",
      "|2010-01-05 00:00:00|        214.599998|        214.379993|\n",
      "|2010-01-06 00:00:00|        214.379993|        210.969995|\n",
      "|2010-01-07 00:00:00|            211.75|            210.58|\n",
      "|2010-01-08 00:00:00|        210.299994|211.98000499999998|\n",
      "|2010-01-11 00:00:00|212.79999700000002|210.11000299999998|\n",
      "|2010-01-12 00:00:00|209.18999499999998|        207.720001|\n",
      "|2010-01-13 00:00:00|        207.870005|        210.650002|\n",
      "|2010-01-14 00:00:00|210.11000299999998|            209.43|\n",
      "|2010-01-15 00:00:00|210.92999500000002|            205.93|\n",
      "|2010-01-19 00:00:00|        208.330002|        215.039995|\n",
      "|2010-01-20 00:00:00|        214.910006|            211.73|\n",
      "|2010-01-21 00:00:00|        212.079994|        208.069996|\n",
      "|2010-01-22 00:00:00|206.78000600000001|            197.75|\n",
      "|2010-01-25 00:00:00|202.51000200000001|        203.070002|\n",
      "|2010-01-26 00:00:00|205.95000100000001|        205.940001|\n",
      "|2010-01-27 00:00:00|        206.849995|        207.880005|\n",
      "|2010-01-28 00:00:00|        204.930004|        199.289995|\n",
      "|2010-01-29 00:00:00|        201.079996|        192.060003|\n",
      "|2010-02-01 00:00:00|192.36999699999998|        194.729998|\n",
      "+-------------------+------------------+------------------+\n",
      "only showing top 20 rows\n",
      "\n"
     ]
    }
   ],
   "source": [
    "df.filter(df['Close']< 500).select(['Date', 'Open', 'Close']).show()"
   ]
  },
  {
   "cell_type": "markdown",
   "metadata": {},
   "source": [
    "Filtering on multiple conditions:\n",
    "\n",
    "Scenario: retrieve all the rows that have a closing price less than \\\\$200.00 and an open greater than \\\\$200.00.\n",
    " - remember to use the ampersand (&) for the AND operator\n",
    " - enclose each filter in parenthesis"
   ]
  },
  {
   "cell_type": "code",
   "execution_count": 19,
   "metadata": {},
   "outputs": [
    {
     "name": "stdout",
     "output_type": "stream",
     "text": [
      "+-------------------+------------------+----------+\n",
      "|               Date|              Open|     Close|\n",
      "+-------------------+------------------+----------+\n",
      "|2010-01-22 00:00:00|206.78000600000001|    197.75|\n",
      "|2010-01-28 00:00:00|        204.930004|199.289995|\n",
      "|2010-01-29 00:00:00|        201.079996|192.060003|\n",
      "+-------------------+------------------+----------+\n",
      "\n"
     ]
    }
   ],
   "source": [
    "df.filter( (df['Close']<200) & (df['Open']>200) ).select(['Date', 'Open', 'Close']).show()"
   ]
  },
  {
   "cell_type": "code",
   "execution_count": 20,
   "metadata": {},
   "outputs": [
    {
     "name": "stdout",
     "output_type": "stream",
     "text": [
      "+-------------------+------------------+------+------+\n",
      "|               Date|              Open| Close|   Low|\n",
      "+-------------------+------------------+------+------+\n",
      "|2010-01-22 00:00:00|206.78000600000001|197.75|197.16|\n",
      "+-------------------+------------------+------+------+\n",
      "\n"
     ]
    }
   ],
   "source": [
    "df.filter(df['Low'] == 197.16).select(['Date', 'Open', 'Close', 'Low']).show()"
   ]
  },
  {
   "cell_type": "markdown",
   "metadata": {},
   "source": [
    "## If I need to manipulate this result, I can use the COLLECT() method"
   ]
  },
  {
   "cell_type": "code",
   "execution_count": 24,
   "metadata": {},
   "outputs": [],
   "source": [
    "result = df.filter(df['Low']==197.16).collect()"
   ]
  },
  {
   "cell_type": "code",
   "execution_count": 27,
   "metadata": {},
   "outputs": [
    {
     "data": {
      "text/plain": [
       "[Row(Date=datetime.datetime(2010, 1, 22, 0, 0), Open=206.78000600000001, High=207.499996, Low=197.16, Close=197.75, Volume=220441900, Adj Close=25.620401)]"
      ]
     },
     "execution_count": 27,
     "metadata": {},
     "output_type": "execute_result"
    }
   ],
   "source": [
    "result  # returns entire list"
   ]
  },
  {
   "cell_type": "code",
   "execution_count": 28,
   "metadata": {},
   "outputs": [
    {
     "data": {
      "text/plain": [
       "Row(Date=datetime.datetime(2010, 1, 22, 0, 0), Open=206.78000600000001, High=207.499996, Low=197.16, Close=197.75, Volume=220441900, Adj Close=25.620401)"
      ]
     },
     "execution_count": 28,
     "metadata": {},
     "output_type": "execute_result"
    }
   ],
   "source": [
    "result[0] # returns first item on the list"
   ]
  },
  {
   "cell_type": "code",
   "execution_count": 29,
   "metadata": {},
   "outputs": [],
   "source": [
    "row = result[0]"
   ]
  },
  {
   "cell_type": "code",
   "execution_count": 30,
   "metadata": {},
   "outputs": [
    {
     "data": {
      "text/plain": [
       "{'Date': datetime.datetime(2010, 1, 22, 0, 0),\n",
       " 'Open': 206.78000600000001,\n",
       " 'High': 207.499996,\n",
       " 'Low': 197.16,\n",
       " 'Close': 197.75,\n",
       " 'Volume': 220441900,\n",
       " 'Adj Close': 25.620401}"
      ]
     },
     "execution_count": 30,
     "metadata": {},
     "output_type": "execute_result"
    }
   ],
   "source": [
    "row.asDict()"
   ]
  },
  {
   "cell_type": "code",
   "execution_count": 31,
   "metadata": {},
   "outputs": [
    {
     "data": {
      "text/plain": [
       "220441900"
      ]
     },
     "execution_count": 31,
     "metadata": {},
     "output_type": "execute_result"
    }
   ],
   "source": [
    "row.asDict()['Volume']"
   ]
  },
  {
   "cell_type": "code",
   "execution_count": null,
   "metadata": {},
   "outputs": [],
   "source": []
  }
 ],
 "metadata": {
  "kernelspec": {
   "display_name": "Python 3",
   "language": "python",
   "name": "python3"
  },
  "language_info": {
   "codemirror_mode": {
    "name": "ipython",
    "version": 3
   },
   "file_extension": ".py",
   "mimetype": "text/x-python",
   "name": "python",
   "nbconvert_exporter": "python",
   "pygments_lexer": "ipython3",
   "version": "3.7.0"
  }
 },
 "nbformat": 4,
 "nbformat_minor": 2
}
