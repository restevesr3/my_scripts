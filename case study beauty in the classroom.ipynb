{
 "cells": [
  {
   "cell_type": "markdown",
   "metadata": {},
   "source": [
    "## Case Study - Beauty in the Classroom"
   ]
  },
  {
   "cell_type": "markdown",
   "metadata": {},
   "source": [
    "### Inspect the data\n",
    "The purpose of this chapter is to give you an opportunity to apply and practice what you've learned on a real world dataset. For this reason, we'll provide a little less guidance than usual.\n",
    "The data from the study described in the video are available in your workspace as evals. Let's take a look!"
   ]
  },
  {
   "cell_type": "markdown",
   "metadata": {},
   "source": [
    "Inspect the evals data frame using techniques you learned in previous chapters. Use an approach that shows you how many observations and variables are included in the dataset."
   ]
  },
  {
   "cell_type": "code",
   "execution_count": 25,
   "metadata": {},
   "outputs": [],
   "source": [
    "library(ggplot2)"
   ]
  },
  {
   "cell_type": "code",
   "execution_count": 1,
   "metadata": {},
   "outputs": [
    {
     "name": "stderr",
     "output_type": "stream",
     "text": [
      "\n",
      "Attaching package: 'dplyr'\n",
      "\n",
      "The following objects are masked from 'package:stats':\n",
      "\n",
      "    filter, lag\n",
      "\n",
      "The following objects are masked from 'package:base':\n",
      "\n",
      "    intersect, setdiff, setequal, union\n",
      "\n"
     ]
    }
   ],
   "source": [
    "library(dplyr)"
   ]
  },
  {
   "cell_type": "markdown",
   "metadata": {},
   "source": [
    "## Load Evals.RData File"
   ]
  },
  {
   "cell_type": "code",
   "execution_count": 4,
   "metadata": {},
   "outputs": [],
   "source": [
    "load('f:/datasets/evals.RData')"
   ]
  },
  {
   "cell_type": "code",
   "execution_count": 5,
   "metadata": {},
   "outputs": [
    {
     "data": {
      "text/html": [
       "<table>\n",
       "<thead><tr><th scope=col>score</th><th scope=col>rank</th><th scope=col>ethnicity</th><th scope=col>gender</th><th scope=col>language</th><th scope=col>age</th><th scope=col>cls_perc_eval</th><th scope=col>cls_did_eval</th><th scope=col>cls_students</th><th scope=col>cls_level</th><th scope=col>...</th><th scope=col>cls_credits</th><th scope=col>bty_f1lower</th><th scope=col>bty_f1upper</th><th scope=col>bty_f2upper</th><th scope=col>bty_m1lower</th><th scope=col>bty_m1upper</th><th scope=col>bty_m2upper</th><th scope=col>bty_avg</th><th scope=col>pic_outfit</th><th scope=col>pic_color</th></tr></thead>\n",
       "<tbody>\n",
       "\t<tr><td>4.7         </td><td>tenure track</td><td>minority    </td><td>female      </td><td>english     </td><td>36          </td><td>55.81395    </td><td>24          </td><td> 43         </td><td>upper       </td><td>...         </td><td>multi credit</td><td>5           </td><td>7           </td><td>6           </td><td>2           </td><td>4           </td><td>6           </td><td>5           </td><td>not formal  </td><td>color       </td></tr>\n",
       "\t<tr><td>4.1         </td><td>tenure track</td><td>minority    </td><td>female      </td><td>english     </td><td>36          </td><td>68.80000    </td><td>86          </td><td>125         </td><td>upper       </td><td>...         </td><td>multi credit</td><td>5           </td><td>7           </td><td>6           </td><td>2           </td><td>4           </td><td>6           </td><td>5           </td><td>not formal  </td><td>color       </td></tr>\n",
       "\t<tr><td>3.9         </td><td>tenure track</td><td>minority    </td><td>female      </td><td>english     </td><td>36          </td><td>60.80000    </td><td>76          </td><td>125         </td><td>upper       </td><td>...         </td><td>multi credit</td><td>5           </td><td>7           </td><td>6           </td><td>2           </td><td>4           </td><td>6           </td><td>5           </td><td>not formal  </td><td>color       </td></tr>\n",
       "\t<tr><td>4.8         </td><td>tenure track</td><td>minority    </td><td>female      </td><td>english     </td><td>36          </td><td>62.60163    </td><td>77          </td><td>123         </td><td>upper       </td><td>...         </td><td>multi credit</td><td>5           </td><td>7           </td><td>6           </td><td>2           </td><td>4           </td><td>6           </td><td>5           </td><td>not formal  </td><td>color       </td></tr>\n",
       "\t<tr><td>4.6         </td><td>tenured     </td><td>not minority</td><td>male        </td><td>english     </td><td>59          </td><td>85.00000    </td><td>17          </td><td> 20         </td><td>upper       </td><td>...         </td><td>multi credit</td><td>4           </td><td>4           </td><td>2           </td><td>2           </td><td>3           </td><td>3           </td><td>3           </td><td>not formal  </td><td>color       </td></tr>\n",
       "\t<tr><td>4.3         </td><td>tenured     </td><td>not minority</td><td>male        </td><td>english     </td><td>59          </td><td>87.50000    </td><td>35          </td><td> 40         </td><td>upper       </td><td>...         </td><td>multi credit</td><td>4           </td><td>4           </td><td>2           </td><td>2           </td><td>3           </td><td>3           </td><td>3           </td><td>not formal  </td><td>color       </td></tr>\n",
       "</tbody>\n",
       "</table>\n"
      ],
      "text/latex": [
       "\\begin{tabular}{r|lllllllllllllllllllll}\n",
       " score & rank & ethnicity & gender & language & age & cls\\_perc\\_eval & cls\\_did\\_eval & cls\\_students & cls\\_level & ... & cls\\_credits & bty\\_f1lower & bty\\_f1upper & bty\\_f2upper & bty\\_m1lower & bty\\_m1upper & bty\\_m2upper & bty\\_avg & pic\\_outfit & pic\\_color\\\\\n",
       "\\hline\n",
       "\t 4.7          & tenure track & minority     & female       & english      & 36           & 55.81395     & 24           &  43          & upper        & ...          & multi credit & 5            & 7            & 6            & 2            & 4            & 6            & 5            & not formal   & color       \\\\\n",
       "\t 4.1          & tenure track & minority     & female       & english      & 36           & 68.80000     & 86           & 125          & upper        & ...          & multi credit & 5            & 7            & 6            & 2            & 4            & 6            & 5            & not formal   & color       \\\\\n",
       "\t 3.9          & tenure track & minority     & female       & english      & 36           & 60.80000     & 76           & 125          & upper        & ...          & multi credit & 5            & 7            & 6            & 2            & 4            & 6            & 5            & not formal   & color       \\\\\n",
       "\t 4.8          & tenure track & minority     & female       & english      & 36           & 62.60163     & 77           & 123          & upper        & ...          & multi credit & 5            & 7            & 6            & 2            & 4            & 6            & 5            & not formal   & color       \\\\\n",
       "\t 4.6          & tenured      & not minority & male         & english      & 59           & 85.00000     & 17           &  20          & upper        & ...          & multi credit & 4            & 4            & 2            & 2            & 3            & 3            & 3            & not formal   & color       \\\\\n",
       "\t 4.3          & tenured      & not minority & male         & english      & 59           & 87.50000     & 35           &  40          & upper        & ...          & multi credit & 4            & 4            & 2            & 2            & 3            & 3            & 3            & not formal   & color       \\\\\n",
       "\\end{tabular}\n"
      ],
      "text/markdown": [
       "\n",
       "score | rank | ethnicity | gender | language | age | cls_perc_eval | cls_did_eval | cls_students | cls_level | ... | cls_credits | bty_f1lower | bty_f1upper | bty_f2upper | bty_m1lower | bty_m1upper | bty_m2upper | bty_avg | pic_outfit | pic_color | \n",
       "|---|---|---|---|---|---|\n",
       "| 4.7          | tenure track | minority     | female       | english      | 36           | 55.81395     | 24           |  43          | upper        | ...          | multi credit | 5            | 7            | 6            | 2            | 4            | 6            | 5            | not formal   | color        | \n",
       "| 4.1          | tenure track | minority     | female       | english      | 36           | 68.80000     | 86           | 125          | upper        | ...          | multi credit | 5            | 7            | 6            | 2            | 4            | 6            | 5            | not formal   | color        | \n",
       "| 3.9          | tenure track | minority     | female       | english      | 36           | 60.80000     | 76           | 125          | upper        | ...          | multi credit | 5            | 7            | 6            | 2            | 4            | 6            | 5            | not formal   | color        | \n",
       "| 4.8          | tenure track | minority     | female       | english      | 36           | 62.60163     | 77           | 123          | upper        | ...          | multi credit | 5            | 7            | 6            | 2            | 4            | 6            | 5            | not formal   | color        | \n",
       "| 4.6          | tenured      | not minority | male         | english      | 59           | 85.00000     | 17           |  20          | upper        | ...          | multi credit | 4            | 4            | 2            | 2            | 3            | 3            | 3            | not formal   | color        | \n",
       "| 4.3          | tenured      | not minority | male         | english      | 59           | 87.50000     | 35           |  40          | upper        | ...          | multi credit | 4            | 4            | 2            | 2            | 3            | 3            | 3            | not formal   | color        | \n",
       "\n",
       "\n"
      ],
      "text/plain": [
       "  score rank         ethnicity    gender language age cls_perc_eval\n",
       "1 4.7   tenure track minority     female english  36  55.81395     \n",
       "2 4.1   tenure track minority     female english  36  68.80000     \n",
       "3 3.9   tenure track minority     female english  36  60.80000     \n",
       "4 4.8   tenure track minority     female english  36  62.60163     \n",
       "5 4.6   tenured      not minority male   english  59  85.00000     \n",
       "6 4.3   tenured      not minority male   english  59  87.50000     \n",
       "  cls_did_eval cls_students cls_level ... cls_credits  bty_f1lower bty_f1upper\n",
       "1 24            43          upper     ... multi credit 5           7          \n",
       "2 86           125          upper     ... multi credit 5           7          \n",
       "3 76           125          upper     ... multi credit 5           7          \n",
       "4 77           123          upper     ... multi credit 5           7          \n",
       "5 17            20          upper     ... multi credit 4           4          \n",
       "6 35            40          upper     ... multi credit 4           4          \n",
       "  bty_f2upper bty_m1lower bty_m1upper bty_m2upper bty_avg pic_outfit pic_color\n",
       "1 6           2           4           6           5       not formal color    \n",
       "2 6           2           4           6           5       not formal color    \n",
       "3 6           2           4           6           5       not formal color    \n",
       "4 6           2           4           6           5       not formal color    \n",
       "5 2           2           3           3           3       not formal color    \n",
       "6 2           2           3           3           3       not formal color    "
      ]
     },
     "metadata": {},
     "output_type": "display_data"
    }
   ],
   "source": [
    "head(evals)"
   ]
  },
  {
   "cell_type": "markdown",
   "metadata": {},
   "source": [
    "## Identify variable types\n",
    "It's always useful to start your exploration of a dataset by identifying variable types. The results from this exercise will help you design appropriate visualizations and calculate useful summary statistics later in your analysis.\n",
    "\n",
    "- Explore the evals data once again with the following goals in mind: (1) Identify each variable as numerical or categorical. (2) If numerical, determine if it is discrete or continuous. (3) If categorical, determine if it is ordinal or not.\n",
    "\n",
    "- We've created a vector of variable names in the editor called cat_vars. To test your understanding of the data, remove the names of any variables that are not categorical."
   ]
  },
  {
   "cell_type": "code",
   "execution_count": 7,
   "metadata": {},
   "outputs": [
    {
     "name": "stdout",
     "output_type": "stream",
     "text": [
      "Observations: 463\n",
      "Variables: 21\n",
      "$ score         <dbl> 4.7, 4.1, 3.9, 4.8, 4.6, 4.3, 2.8, 4.1, 3.4, 4.5, 3.8...\n",
      "$ rank          <fct> tenure track, tenure track, tenure track, tenure trac...\n",
      "$ ethnicity     <fct> minority, minority, minority, minority, not minority,...\n",
      "$ gender        <fct> female, female, female, female, male, male, male, mal...\n",
      "$ language      <fct> english, english, english, english, english, english,...\n",
      "$ age           <int> 36, 36, 36, 36, 59, 59, 59, 51, 51, 40, 40, 40, 40, 4...\n",
      "$ cls_perc_eval <dbl> 55.81395, 68.80000, 60.80000, 62.60163, 85.00000, 87....\n",
      "$ cls_did_eval  <int> 24, 86, 76, 77, 17, 35, 39, 55, 111, 40, 24, 24, 17, ...\n",
      "$ cls_students  <int> 43, 125, 125, 123, 20, 40, 44, 55, 195, 46, 27, 25, 2...\n",
      "$ cls_level     <fct> upper, upper, upper, upper, upper, upper, upper, uppe...\n",
      "$ cls_profs     <fct> single, single, single, single, multiple, multiple, m...\n",
      "$ cls_credits   <fct> multi credit, multi credit, multi credit, multi credi...\n",
      "$ bty_f1lower   <int> 5, 5, 5, 5, 4, 4, 4, 5, 5, 2, 2, 2, 2, 2, 2, 2, 2, 7,...\n",
      "$ bty_f1upper   <int> 7, 7, 7, 7, 4, 4, 4, 2, 2, 5, 5, 5, 5, 5, 5, 5, 5, 9,...\n",
      "$ bty_f2upper   <int> 6, 6, 6, 6, 2, 2, 2, 5, 5, 4, 4, 4, 4, 4, 4, 4, 4, 9,...\n",
      "$ bty_m1lower   <int> 2, 2, 2, 2, 2, 2, 2, 2, 2, 3, 3, 3, 3, 3, 3, 3, 3, 7,...\n",
      "$ bty_m1upper   <int> 4, 4, 4, 4, 3, 3, 3, 3, 3, 3, 3, 3, 3, 3, 3, 3, 3, 6,...\n",
      "$ bty_m2upper   <int> 6, 6, 6, 6, 3, 3, 3, 3, 3, 2, 2, 2, 2, 2, 2, 2, 2, 6,...\n",
      "$ bty_avg       <dbl> 5.000, 5.000, 5.000, 5.000, 3.000, 3.000, 3.000, 3.33...\n",
      "$ pic_outfit    <fct> not formal, not formal, not formal, not formal, not f...\n",
      "$ pic_color     <fct> color, color, color, color, color, color, color, colo...\n"
     ]
    }
   ],
   "source": [
    "glimpse(evals)"
   ]
  },
  {
   "cell_type": "code",
   "execution_count": 8,
   "metadata": {},
   "outputs": [],
   "source": [
    "# Remove non-factor variables from the vector below\n",
    "cat_vars <- c(\"score\", \"rank\", \"ethnicity\", \"gender\", \"language\", \"age\",\n",
    "              \"cls_students\", \"cls_level\", \"cls_profs\", \"cls_credits\",\n",
    "              \"bty_avg\", \"pic_outfit\", \"pic_color\")"
   ]
  },
  {
   "cell_type": "code",
   "execution_count": 9,
   "metadata": {},
   "outputs": [
    {
     "data": {
      "text/html": [
       "<ol class=list-inline>\n",
       "\t<li>'score'</li>\n",
       "\t<li>'rank'</li>\n",
       "\t<li>'ethnicity'</li>\n",
       "\t<li>'gender'</li>\n",
       "\t<li>'language'</li>\n",
       "\t<li>'age'</li>\n",
       "\t<li>'cls_students'</li>\n",
       "\t<li>'cls_level'</li>\n",
       "\t<li>'cls_profs'</li>\n",
       "\t<li>'cls_credits'</li>\n",
       "\t<li>'bty_avg'</li>\n",
       "\t<li>'pic_outfit'</li>\n",
       "\t<li>'pic_color'</li>\n",
       "</ol>\n"
      ],
      "text/latex": [
       "\\begin{enumerate*}\n",
       "\\item 'score'\n",
       "\\item 'rank'\n",
       "\\item 'ethnicity'\n",
       "\\item 'gender'\n",
       "\\item 'language'\n",
       "\\item 'age'\n",
       "\\item 'cls\\_students'\n",
       "\\item 'cls\\_level'\n",
       "\\item 'cls\\_profs'\n",
       "\\item 'cls\\_credits'\n",
       "\\item 'bty\\_avg'\n",
       "\\item 'pic\\_outfit'\n",
       "\\item 'pic\\_color'\n",
       "\\end{enumerate*}\n"
      ],
      "text/markdown": [
       "1. 'score'\n",
       "2. 'rank'\n",
       "3. 'ethnicity'\n",
       "4. 'gender'\n",
       "5. 'language'\n",
       "6. 'age'\n",
       "7. 'cls_students'\n",
       "8. 'cls_level'\n",
       "9. 'cls_profs'\n",
       "10. 'cls_credits'\n",
       "11. 'bty_avg'\n",
       "12. 'pic_outfit'\n",
       "13. 'pic_color'\n",
       "\n",
       "\n"
      ],
      "text/plain": [
       " [1] \"score\"        \"rank\"         \"ethnicity\"    \"gender\"       \"language\"    \n",
       " [6] \"age\"          \"cls_students\" \"cls_level\"    \"cls_profs\"    \"cls_credits\" \n",
       "[11] \"bty_avg\"      \"pic_outfit\"   \"pic_color\"   "
      ]
     },
     "metadata": {},
     "output_type": "display_data"
    }
   ],
   "source": [
    "cat_vars"
   ]
  },
  {
   "cell_type": "code",
   "execution_count": 12,
   "metadata": {},
   "outputs": [
    {
     "data": {
      "text/html": [
       "13"
      ],
      "text/latex": [
       "13"
      ],
      "text/markdown": [
       "13"
      ],
      "text/plain": [
       "[1] 13"
      ]
     },
     "metadata": {},
     "output_type": "display_data"
    }
   ],
   "source": [
    "length(cat_vars)"
   ]
  },
  {
   "cell_type": "code",
   "execution_count": 20,
   "metadata": {},
   "outputs": [],
   "source": [
    "cat_vars<-cat_vars[-(c(1,6,7, 11))]"
   ]
  },
  {
   "cell_type": "code",
   "execution_count": 21,
   "metadata": {},
   "outputs": [
    {
     "data": {
      "text/html": [
       "<ol class=list-inline>\n",
       "\t<li>'rank'</li>\n",
       "\t<li>'ethnicity'</li>\n",
       "\t<li>'gender'</li>\n",
       "\t<li>'language'</li>\n",
       "\t<li>'cls_level'</li>\n",
       "\t<li>'cls_profs'</li>\n",
       "\t<li>'cls_credits'</li>\n",
       "\t<li>'pic_outfit'</li>\n",
       "\t<li>'pic_color'</li>\n",
       "</ol>\n"
      ],
      "text/latex": [
       "\\begin{enumerate*}\n",
       "\\item 'rank'\n",
       "\\item 'ethnicity'\n",
       "\\item 'gender'\n",
       "\\item 'language'\n",
       "\\item 'cls\\_level'\n",
       "\\item 'cls\\_profs'\n",
       "\\item 'cls\\_credits'\n",
       "\\item 'pic\\_outfit'\n",
       "\\item 'pic\\_color'\n",
       "\\end{enumerate*}\n"
      ],
      "text/markdown": [
       "1. 'rank'\n",
       "2. 'ethnicity'\n",
       "3. 'gender'\n",
       "4. 'language'\n",
       "5. 'cls_level'\n",
       "6. 'cls_profs'\n",
       "7. 'cls_credits'\n",
       "8. 'pic_outfit'\n",
       "9. 'pic_color'\n",
       "\n",
       "\n"
      ],
      "text/plain": [
       "[1] \"rank\"        \"ethnicity\"   \"gender\"      \"language\"    \"cls_level\"  \n",
       "[6] \"cls_profs\"   \"cls_credits\" \"pic_outfit\"  \"pic_color\"  "
      ]
     },
     "metadata": {},
     "output_type": "display_data"
    }
   ],
   "source": [
    "cat_vars"
   ]
  },
  {
   "cell_type": "markdown",
   "metadata": {},
   "source": [
    "## Recode a variable\n",
    "The cls_students variable in evals tells you the number of students in the class. Suppose instead of the exact number of students, you're interested in whether the class is \n",
    "\"small\" (18 students or fewer), \n",
    "\"midsize\" (19 - 59 students), or \n",
    "\"large\" (60 students or more).\n",
    "\n",
    "- Recode the cls_students variable into a new variable, cls_type, using case_when(). This new variable should have three levels as described above. save the resulting data frame (with the new variable) as evals. \n",
    "\n",
    "- What type of variable is cls_type?"
   ]
  },
  {
   "cell_type": "code",
   "execution_count": 23,
   "metadata": {},
   "outputs": [],
   "source": [
    "evals<-evals %>% mutate(cls_type = case_when(\n",
    "    cls_students <= 18 ~ \"small\",\n",
    "    cls_students >=19 & cls_students <= 59 ~ \"midsize\",\n",
    "    cls_students >= 60 ~ \"large\"\n",
    "    )\n",
    "                       )"
   ]
  },
  {
   "cell_type": "markdown",
   "metadata": {},
   "source": [
    "Excellent! The cls_type variable is a categorical variable, stored as a character vector. You could have made it a factor variable by wrapping the nested ifelse() statements inside factor(). You don't have to do that now. Let's move on! "
   ]
  },
  {
   "cell_type": "code",
   "execution_count": 24,
   "metadata": {},
   "outputs": [
    {
     "data": {
      "text/html": [
       "<table>\n",
       "<thead><tr><th scope=col>cls_students</th><th scope=col>cls_type</th></tr></thead>\n",
       "<tbody>\n",
       "\t<tr><td> 43    </td><td>midsize</td></tr>\n",
       "\t<tr><td>125    </td><td>large  </td></tr>\n",
       "\t<tr><td>125    </td><td>large  </td></tr>\n",
       "\t<tr><td>123    </td><td>large  </td></tr>\n",
       "\t<tr><td> 20    </td><td>midsize</td></tr>\n",
       "\t<tr><td> 40    </td><td>midsize</td></tr>\n",
       "\t<tr><td> 44    </td><td>midsize</td></tr>\n",
       "\t<tr><td> 55    </td><td>midsize</td></tr>\n",
       "\t<tr><td>195    </td><td>large  </td></tr>\n",
       "\t<tr><td> 46    </td><td>midsize</td></tr>\n",
       "\t<tr><td> 27    </td><td>midsize</td></tr>\n",
       "\t<tr><td> 25    </td><td>midsize</td></tr>\n",
       "\t<tr><td> 20    </td><td>midsize</td></tr>\n",
       "\t<tr><td> 25    </td><td>midsize</td></tr>\n",
       "\t<tr><td> 42    </td><td>midsize</td></tr>\n",
       "\t<tr><td> 20    </td><td>midsize</td></tr>\n",
       "\t<tr><td> 18    </td><td>small  </td></tr>\n",
       "\t<tr><td> 48    </td><td>midsize</td></tr>\n",
       "\t<tr><td> 44    </td><td>midsize</td></tr>\n",
       "\t<tr><td> 48    </td><td>midsize</td></tr>\n",
       "\t<tr><td> 45    </td><td>midsize</td></tr>\n",
       "\t<tr><td> 59    </td><td>midsize</td></tr>\n",
       "\t<tr><td> 87    </td><td>large  </td></tr>\n",
       "\t<tr><td>282    </td><td>large  </td></tr>\n",
       "\t<tr><td>292    </td><td>large  </td></tr>\n",
       "\t<tr><td>130    </td><td>large  </td></tr>\n",
       "\t<tr><td>285    </td><td>large  </td></tr>\n",
       "\t<tr><td>272    </td><td>large  </td></tr>\n",
       "\t<tr><td>286    </td><td>large  </td></tr>\n",
       "\t<tr><td>302    </td><td>large  </td></tr>\n",
       "\t<tr><td>...</td><td>...</td></tr>\n",
       "\t<tr><td>149    </td><td>large  </td></tr>\n",
       "\t<tr><td>137    </td><td>large  </td></tr>\n",
       "\t<tr><td> 29    </td><td>midsize</td></tr>\n",
       "\t<tr><td> 55    </td><td>midsize</td></tr>\n",
       "\t<tr><td>136    </td><td>large  </td></tr>\n",
       "\t<tr><td> 96    </td><td>large  </td></tr>\n",
       "\t<tr><td> 60    </td><td>large  </td></tr>\n",
       "\t<tr><td>108    </td><td>large  </td></tr>\n",
       "\t<tr><td> 39    </td><td>midsize</td></tr>\n",
       "\t<tr><td> 15    </td><td>small  </td></tr>\n",
       "\t<tr><td>111    </td><td>large  </td></tr>\n",
       "\t<tr><td> 17    </td><td>small  </td></tr>\n",
       "\t<tr><td> 19    </td><td>midsize</td></tr>\n",
       "\t<tr><td> 27    </td><td>midsize</td></tr>\n",
       "\t<tr><td> 19    </td><td>midsize</td></tr>\n",
       "\t<tr><td> 13    </td><td>small  </td></tr>\n",
       "\t<tr><td> 19    </td><td>midsize</td></tr>\n",
       "\t<tr><td> 22    </td><td>midsize</td></tr>\n",
       "\t<tr><td> 20    </td><td>midsize</td></tr>\n",
       "\t<tr><td> 27    </td><td>midsize</td></tr>\n",
       "\t<tr><td>132    </td><td>large  </td></tr>\n",
       "\t<tr><td>127    </td><td>large  </td></tr>\n",
       "\t<tr><td> 85    </td><td>large  </td></tr>\n",
       "\t<tr><td>101    </td><td>large  </td></tr>\n",
       "\t<tr><td> 21    </td><td>midsize</td></tr>\n",
       "\t<tr><td> 86    </td><td>large  </td></tr>\n",
       "\t<tr><td> 84    </td><td>large  </td></tr>\n",
       "\t<tr><td> 67    </td><td>large  </td></tr>\n",
       "\t<tr><td> 66    </td><td>large  </td></tr>\n",
       "\t<tr><td> 35    </td><td>midsize</td></tr>\n",
       "</tbody>\n",
       "</table>\n"
      ],
      "text/latex": [
       "\\begin{tabular}{r|ll}\n",
       " cls\\_students & cls\\_type\\\\\n",
       "\\hline\n",
       "\t  43     & midsize\\\\\n",
       "\t 125     & large  \\\\\n",
       "\t 125     & large  \\\\\n",
       "\t 123     & large  \\\\\n",
       "\t  20     & midsize\\\\\n",
       "\t  40     & midsize\\\\\n",
       "\t  44     & midsize\\\\\n",
       "\t  55     & midsize\\\\\n",
       "\t 195     & large  \\\\\n",
       "\t  46     & midsize\\\\\n",
       "\t  27     & midsize\\\\\n",
       "\t  25     & midsize\\\\\n",
       "\t  20     & midsize\\\\\n",
       "\t  25     & midsize\\\\\n",
       "\t  42     & midsize\\\\\n",
       "\t  20     & midsize\\\\\n",
       "\t  18     & small  \\\\\n",
       "\t  48     & midsize\\\\\n",
       "\t  44     & midsize\\\\\n",
       "\t  48     & midsize\\\\\n",
       "\t  45     & midsize\\\\\n",
       "\t  59     & midsize\\\\\n",
       "\t  87     & large  \\\\\n",
       "\t 282     & large  \\\\\n",
       "\t 292     & large  \\\\\n",
       "\t 130     & large  \\\\\n",
       "\t 285     & large  \\\\\n",
       "\t 272     & large  \\\\\n",
       "\t 286     & large  \\\\\n",
       "\t 302     & large  \\\\\n",
       "\t ... & ...\\\\\n",
       "\t 149     & large  \\\\\n",
       "\t 137     & large  \\\\\n",
       "\t  29     & midsize\\\\\n",
       "\t  55     & midsize\\\\\n",
       "\t 136     & large  \\\\\n",
       "\t  96     & large  \\\\\n",
       "\t  60     & large  \\\\\n",
       "\t 108     & large  \\\\\n",
       "\t  39     & midsize\\\\\n",
       "\t  15     & small  \\\\\n",
       "\t 111     & large  \\\\\n",
       "\t  17     & small  \\\\\n",
       "\t  19     & midsize\\\\\n",
       "\t  27     & midsize\\\\\n",
       "\t  19     & midsize\\\\\n",
       "\t  13     & small  \\\\\n",
       "\t  19     & midsize\\\\\n",
       "\t  22     & midsize\\\\\n",
       "\t  20     & midsize\\\\\n",
       "\t  27     & midsize\\\\\n",
       "\t 132     & large  \\\\\n",
       "\t 127     & large  \\\\\n",
       "\t  85     & large  \\\\\n",
       "\t 101     & large  \\\\\n",
       "\t  21     & midsize\\\\\n",
       "\t  86     & large  \\\\\n",
       "\t  84     & large  \\\\\n",
       "\t  67     & large  \\\\\n",
       "\t  66     & large  \\\\\n",
       "\t  35     & midsize\\\\\n",
       "\\end{tabular}\n"
      ],
      "text/markdown": [
       "\n",
       "cls_students | cls_type | \n",
       "|---|---|---|---|---|---|---|---|---|---|---|---|---|---|---|---|---|---|---|---|---|---|---|---|---|---|---|---|---|---|---|---|---|---|---|---|---|---|---|---|---|---|---|---|---|---|---|---|---|---|---|---|---|---|---|---|---|---|---|---|---|\n",
       "|  43     | midsize | \n",
       "| 125     | large   | \n",
       "| 125     | large   | \n",
       "| 123     | large   | \n",
       "|  20     | midsize | \n",
       "|  40     | midsize | \n",
       "|  44     | midsize | \n",
       "|  55     | midsize | \n",
       "| 195     | large   | \n",
       "|  46     | midsize | \n",
       "|  27     | midsize | \n",
       "|  25     | midsize | \n",
       "|  20     | midsize | \n",
       "|  25     | midsize | \n",
       "|  42     | midsize | \n",
       "|  20     | midsize | \n",
       "|  18     | small   | \n",
       "|  48     | midsize | \n",
       "|  44     | midsize | \n",
       "|  48     | midsize | \n",
       "|  45     | midsize | \n",
       "|  59     | midsize | \n",
       "|  87     | large   | \n",
       "| 282     | large   | \n",
       "| 292     | large   | \n",
       "| 130     | large   | \n",
       "| 285     | large   | \n",
       "| 272     | large   | \n",
       "| 286     | large   | \n",
       "| 302     | large   | \n",
       "| ... | ... | \n",
       "| 149     | large   | \n",
       "| 137     | large   | \n",
       "|  29     | midsize | \n",
       "|  55     | midsize | \n",
       "| 136     | large   | \n",
       "|  96     | large   | \n",
       "|  60     | large   | \n",
       "| 108     | large   | \n",
       "|  39     | midsize | \n",
       "|  15     | small   | \n",
       "| 111     | large   | \n",
       "|  17     | small   | \n",
       "|  19     | midsize | \n",
       "|  27     | midsize | \n",
       "|  19     | midsize | \n",
       "|  13     | small   | \n",
       "|  19     | midsize | \n",
       "|  22     | midsize | \n",
       "|  20     | midsize | \n",
       "|  27     | midsize | \n",
       "| 132     | large   | \n",
       "| 127     | large   | \n",
       "|  85     | large   | \n",
       "| 101     | large   | \n",
       "|  21     | midsize | \n",
       "|  86     | large   | \n",
       "|  84     | large   | \n",
       "|  67     | large   | \n",
       "|  66     | large   | \n",
       "|  35     | midsize | \n",
       "\n",
       "\n"
      ],
      "text/plain": [
       "    cls_students cls_type\n",
       "1    43          midsize \n",
       "2   125          large   \n",
       "3   125          large   \n",
       "4   123          large   \n",
       "5    20          midsize \n",
       "6    40          midsize \n",
       "7    44          midsize \n",
       "8    55          midsize \n",
       "9   195          large   \n",
       "10   46          midsize \n",
       "11   27          midsize \n",
       "12   25          midsize \n",
       "13   20          midsize \n",
       "14   25          midsize \n",
       "15   42          midsize \n",
       "16   20          midsize \n",
       "17   18          small   \n",
       "18   48          midsize \n",
       "19   44          midsize \n",
       "20   48          midsize \n",
       "21   45          midsize \n",
       "22   59          midsize \n",
       "23   87          large   \n",
       "24  282          large   \n",
       "25  292          large   \n",
       "26  130          large   \n",
       "27  285          large   \n",
       "28  272          large   \n",
       "29  286          large   \n",
       "30  302          large   \n",
       "... ...          ...     \n",
       "434 149          large   \n",
       "435 137          large   \n",
       "436  29          midsize \n",
       "437  55          midsize \n",
       "438 136          large   \n",
       "439  96          large   \n",
       "440  60          large   \n",
       "441 108          large   \n",
       "442  39          midsize \n",
       "443  15          small   \n",
       "444 111          large   \n",
       "445  17          small   \n",
       "446  19          midsize \n",
       "447  27          midsize \n",
       "448  19          midsize \n",
       "449  13          small   \n",
       "450  19          midsize \n",
       "451  22          midsize \n",
       "452  20          midsize \n",
       "453  27          midsize \n",
       "454 132          large   \n",
       "455 127          large   \n",
       "456  85          large   \n",
       "457 101          large   \n",
       "458  21          midsize \n",
       "459  86          large   \n",
       "460  84          large   \n",
       "461  67          large   \n",
       "462  66          large   \n",
       "463  35          midsize "
      ]
     },
     "metadata": {},
     "output_type": "display_data"
    }
   ],
   "source": [
    "evals %>% select(cls_students, cls_type)"
   ]
  },
  {
   "cell_type": "markdown",
   "metadata": {},
   "source": [
    "### Create a scatterplot\n",
    "The bty_avg variable shows the average beauty rating of the professor by the six students who were asked to rate the attractiveness of these faculty. The score variable shows the average professor evaluation score, with 1 being very unsatisfactory and 5 being excellent.\n",
    "\n",
    "- Use ggplot() to create a scatterplot displaying the relationship between these two variables. \n",
    "- How would you describe the relationship apparent in this visualization?"
   ]
  },
  {
   "cell_type": "code",
   "execution_count": 26,
   "metadata": {},
   "outputs": [
    {
     "data": {},
     "metadata": {},
     "output_type": "display_data"
    },
    {
     "data": {
      "image/png": "[encoded data removed]",
      "text/plain": [
       "plot without title"
      ]
     },
     "metadata": {},
     "output_type": "display_data",
     "source": "R display func"
    }
   ],
   "source": [
    "ggplot(evals, aes(x=bty_avg, y=score)) + geom_point()"
   ]
  },
  {
   "cell_type": "markdown",
   "metadata": {},
   "source": [
    "## Create a scatterplot, with an added layer\n",
    "Suppose you are interested in evaluating how the relationship between a professor's attractiveness and their evaluation score varies across different class types (small, midsize, and large).\n",
    "\n",
    "- Recreate your visualization from the previous exercise, but this time coloring the points by class type.\n",
    "- How would you describe the relationship apparent in this visualization?"
   ]
  },
  {
   "cell_type": "code",
   "execution_count": 27,
   "metadata": {},
   "outputs": [
    {
     "data": {},
     "metadata": {},
     "output_type": "display_data"
    },
    {
     "data": {
      "image/png": "[encoded data removed]",
      "text/plain": [
       "plot without title"
      ]
     },
     "metadata": {},
     "output_type": "display_data",
     "source": "R display func"
    }
   ],
   "source": [
    "ggplot(evals, aes(x=bty_avg, y=score, color=cls_type)) + geom_point()"
   ]
  },
  {
   "cell_type": "code",
   "execution_count": null,
   "metadata": {},
   "outputs": [],
   "source": []
  }
 ],
 "metadata": {
  "kernelspec": {
   "display_name": "R",
   "language": "R",
   "name": "ir"
  },
  "language_info": {
   "codemirror_mode": "r",
   "file_extension": ".r",
   "mimetype": "text/x-r-source",
   "name": "R",
   "pygments_lexer": "r",
   "version": "3.5.1"
  }
 },
 "nbformat": 4,
 "nbformat_minor": 2
}
