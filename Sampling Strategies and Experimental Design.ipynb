{
 "cells": [
  {
   "cell_type": "markdown",
   "metadata": {},
   "source": [
    "# Sampling Strategies and Experimental Design"
   ]
  },
  {
   "cell_type": "markdown",
   "metadata": {},
   "source": [
    "## Sampling strategies, determine which\n",
    "\n",
    "A consulting company is planning a pilot study on marketing in Boston. They identify the zip codes that make up the greater Boston area, then sample 50 randomly selected addresses from each zip code and mail a coupon to these addresses. They then track whether the coupon was used in the following month.\n",
    "\n",
    "What sampling strategy has this company used?"
   ]
  },
  {
   "cell_type": "markdown",
   "metadata": {},
   "source": [
    "## Answer: Stratified Sample"
   ]
  },
  {
   "cell_type": "markdown",
   "metadata": {},
   "source": [
    "## Sampling strategies, choose worst\n",
    "\n",
    "A school district has requested a survey be conducted on the socioeconomic status of their students. Their budget only allows them to conduct the survey in some of the schools, hence they need to first sample a few schools. \n",
    "\n",
    "Students living in this district generally attend a school in their neighborhood. The district is broken into many distinct and unique neighborhoods, some including large single-family homes and others with only low-income housing. \n",
    "\n",
    "Which approach would likely be the least effective for selecting the schools where the survey will be conducted?"
   ]
  },
  {
   "cell_type": "markdown",
   "metadata": {},
   "source": [
    "### Answer: Cluster sampling, where each cluster is a neighborhood.\n",
    "\n",
    "This sampling strategy would be a bad idea because each neighborhood has a unique socioeconomic status. A good study would collect information about every neighborhood.\n",
    "\n"
   ]
  },
  {
   "cell_type": "markdown",
   "metadata": {},
   "source": [
    "# Sampling in R"
   ]
  },
  {
   "cell_type": "code",
   "execution_count": 1,
   "metadata": {},
   "outputs": [
    {
     "name": "stderr",
     "output_type": "stream",
     "text": [
      "Please visit openintro.org for free statistics materials\n",
      "\n",
      "Attaching package: 'openintro'\n",
      "\n",
      "The following object is masked from 'package:datasets':\n",
      "\n",
      "    cars\n",
      "\n"
     ]
    }
   ],
   "source": [
    "library(openintro)"
   ]
  },
  {
   "cell_type": "code",
   "execution_count": 2,
   "metadata": {},
   "outputs": [
    {
     "name": "stderr",
     "output_type": "stream",
     "text": [
      "\n",
      "Attaching package: 'dplyr'\n",
      "\n",
      "The following objects are masked from 'package:stats':\n",
      "\n",
      "    filter, lag\n",
      "\n",
      "The following objects are masked from 'package:base':\n",
      "\n",
      "    intersect, setdiff, setequal, union\n",
      "\n"
     ]
    }
   ],
   "source": [
    "library(dplyr)"
   ]
  },
  {
   "cell_type": "code",
   "execution_count": 3,
   "metadata": {},
   "outputs": [],
   "source": [
    "# Load county data\n",
    "data(county)"
   ]
  },
  {
   "cell_type": "code",
   "execution_count": 4,
   "metadata": {},
   "outputs": [
    {
     "name": "stdout",
     "output_type": "stream",
     "text": [
      "Observations: 3,143\n",
      "Variables: 10\n",
      "$ name          <fctr> Autauga County, Baldwin County, Barbour County, Bibb...\n",
      "$ state         <fctr> Alabama, Alabama, Alabama, Alabama, Alabama, Alabama...\n",
      "$ pop2000       <dbl> 43671, 140415, 29038, 20826, 51024, 11714, 21399, 112...\n",
      "$ pop2010       <dbl> 54571, 182265, 27457, 22915, 57322, 10914, 20947, 118...\n",
      "$ fed_spend     <dbl> 6.068095, 6.139862, 8.752158, 7.122016, 5.130910, 9.9...\n",
      "$ poverty       <dbl> 10.6, 12.2, 25.0, 12.6, 13.4, 25.3, 25.0, 19.5, 20.3,...\n",
      "$ homeownership <dbl> 77.5, 76.7, 68.0, 82.9, 82.0, 76.9, 69.0, 70.7, 71.4,...\n",
      "$ multiunit     <dbl> 7.2, 22.6, 11.1, 6.6, 3.7, 9.9, 13.7, 14.3, 8.7, 4.3,...\n",
      "$ income        <dbl> 24568, 26469, 15875, 19918, 21070, 20289, 16916, 2057...\n",
      "$ med_income    <dbl> 53255, 50147, 33219, 41770, 45549, 31602, 30659, 3840...\n"
     ]
    }
   ],
   "source": [
    "glimpse(county)"
   ]
  },
  {
   "cell_type": "code",
   "execution_count": 5,
   "metadata": {},
   "outputs": [],
   "source": [
    "# Remove DC, because it is not a state\n",
    "county_noDc <- county %>% filter(state !=  \"District of Columbia\") %>% droplevels()"
   ]
  },
  {
   "cell_type": "code",
   "execution_count": 6,
   "metadata": {},
   "outputs": [
    {
     "name": "stdout",
     "output_type": "stream",
     "text": [
      "Observations: 3,142\n",
      "Variables: 10\n",
      "$ name          <fctr> Autauga County, Baldwin County, Barbour County, Bibb...\n",
      "$ state         <fctr> Alabama, Alabama, Alabama, Alabama, Alabama, Alabama...\n",
      "$ pop2000       <dbl> 43671, 140415, 29038, 20826, 51024, 11714, 21399, 112...\n",
      "$ pop2010       <dbl> 54571, 182265, 27457, 22915, 57322, 10914, 20947, 118...\n",
      "$ fed_spend     <dbl> 6.068095, 6.139862, 8.752158, 7.122016, 5.130910, 9.9...\n",
      "$ poverty       <dbl> 10.6, 12.2, 25.0, 12.6, 13.4, 25.3, 25.0, 19.5, 20.3,...\n",
      "$ homeownership <dbl> 77.5, 76.7, 68.0, 82.9, 82.0, 76.9, 69.0, 70.7, 71.4,...\n",
      "$ multiunit     <dbl> 7.2, 22.6, 11.1, 6.6, 3.7, 9.9, 13.7, 14.3, 8.7, 4.3,...\n",
      "$ income        <dbl> 24568, 26469, 15875, 19918, 21070, 20289, 16916, 2057...\n",
      "$ med_income    <dbl> 53255, 50147, 33219, 41770, 45549, 31602, 30659, 3840...\n"
     ]
    }
   ],
   "source": [
    "glimpse(county_noDc)"
   ]
  },
  {
   "cell_type": "markdown",
   "metadata": {},
   "source": [
    "Scenario 1: limited resources only allow us to collect information on 150 out of over 3000 counties.\n",
    "\n",
    "options:\n",
    " - 1. Take a simple random sample:\n",
    "  - in dplyr use the simple_n() function"
   ]
  },
  {
   "cell_type": "code",
   "execution_count": 7,
   "metadata": {},
   "outputs": [],
   "source": [
    "# Simple random sample of 150 counties\n",
    "# _srs = simple random sample\n",
    "county_srs<-county_noDc %>% sample_n(size=150)"
   ]
  },
  {
   "cell_type": "code",
   "execution_count": 8,
   "metadata": {},
   "outputs": [
    {
     "name": "stdout",
     "output_type": "stream",
     "text": [
      "Observations: 150\n",
      "Variables: 10\n",
      "$ name          <fctr> Stanly County, Lehigh County, Alameda County, Hot Sp...\n",
      "$ state         <fctr> North Carolina, Pennsylvania, California, Wyoming, M...\n",
      "$ pop2000       <dbl> 58100, 312090, 1443741, 4882, 15069, 17943, 6556, 226...\n",
      "$ pop2010       <dbl> 60585, 349497, 1510271, 4812, 14962, 18550, 6306, 216...\n",
      "$ fed_spend     <dbl> 6.495981, 6.253095, 10.057915, 9.829593, 9.175511, 8....\n",
      "$ poverty       <dbl> 12.7, 11.9, 11.4, 9.1, 23.1, 15.6, 20.4, 17.5, 17.1, ...\n",
      "$ homeownership <dbl> 76.9, 68.8, 55.1, 64.1, 68.8, 69.1, 82.9, 79.0, 72.5,...\n",
      "$ multiunit     <dbl> 7.3, 23.5, 38.0, 12.8, 4.7, 10.6, 3.6, 5.4, 7.3, 13.2...\n",
      "$ income        <dbl> 21139, 27301, 33961, 25269, 15183, 24656, 15418, 2007...\n",
      "$ med_income    <dbl> 44802, 53541, 69384, 42469, 28484, 36900, 29740, 3815...\n"
     ]
    }
   ],
   "source": [
    "# Glimpse county_rsr\n",
    "glimpse(county_srs)"
   ]
  },
  {
   "cell_type": "markdown",
   "metadata": {},
   "source": [
    "Scenario 2: We want to obtain equal numbers from each state that is 3 counties per state a simple random sample won't insure that. We can confirm this we can count the number of counties per state using group_by and count\n"
   ]
  },
  {
   "cell_type": "code",
   "execution_count": 9,
   "metadata": {},
   "outputs": [
    {
     "data": {
      "text/html": [
       "<table>\n",
       "<thead><tr><th scope=col>state</th><th scope=col>n</th></tr></thead>\n",
       "<tbody>\n",
       "\t<tr><td>Alabama       </td><td> 2            </td></tr>\n",
       "\t<tr><td>Arkansas      </td><td> 3            </td></tr>\n",
       "\t<tr><td>California    </td><td> 2            </td></tr>\n",
       "\t<tr><td>Colorado      </td><td> 3            </td></tr>\n",
       "\t<tr><td>Florida       </td><td> 7            </td></tr>\n",
       "\t<tr><td>Georgia       </td><td> 8            </td></tr>\n",
       "\t<tr><td>Idaho         </td><td> 3            </td></tr>\n",
       "\t<tr><td>Illinois      </td><td> 6            </td></tr>\n",
       "\t<tr><td>Indiana       </td><td> 3            </td></tr>\n",
       "\t<tr><td>Iowa          </td><td> 3            </td></tr>\n",
       "\t<tr><td>Kansas        </td><td> 1            </td></tr>\n",
       "\t<tr><td>Kentucky      </td><td> 6            </td></tr>\n",
       "\t<tr><td>Maine         </td><td> 2            </td></tr>\n",
       "\t<tr><td>Michigan      </td><td> 2            </td></tr>\n",
       "\t<tr><td>Minnesota     </td><td> 6            </td></tr>\n",
       "\t<tr><td>Mississippi   </td><td> 6            </td></tr>\n",
       "\t<tr><td>Missouri      </td><td> 3            </td></tr>\n",
       "\t<tr><td>Montana       </td><td> 2            </td></tr>\n",
       "\t<tr><td>Nebraska      </td><td> 3            </td></tr>\n",
       "\t<tr><td>New Hampshire </td><td> 1            </td></tr>\n",
       "\t<tr><td>New Mexico    </td><td> 2            </td></tr>\n",
       "\t<tr><td>New York      </td><td> 2            </td></tr>\n",
       "\t<tr><td>North Carolina</td><td> 7            </td></tr>\n",
       "\t<tr><td>North Dakota  </td><td> 7            </td></tr>\n",
       "\t<tr><td>Ohio          </td><td> 4            </td></tr>\n",
       "\t<tr><td>Oklahoma      </td><td> 7            </td></tr>\n",
       "\t<tr><td>Pennsylvania  </td><td> 3            </td></tr>\n",
       "\t<tr><td>South Carolina</td><td> 1            </td></tr>\n",
       "\t<tr><td>South Dakota  </td><td> 6            </td></tr>\n",
       "\t<tr><td>Tennessee     </td><td> 6            </td></tr>\n",
       "\t<tr><td>Texas         </td><td>14            </td></tr>\n",
       "\t<tr><td>Vermont       </td><td> 1            </td></tr>\n",
       "\t<tr><td>Virginia      </td><td> 4            </td></tr>\n",
       "\t<tr><td>Washington    </td><td> 1            </td></tr>\n",
       "\t<tr><td>West Virginia </td><td> 5            </td></tr>\n",
       "\t<tr><td>Wisconsin     </td><td> 4            </td></tr>\n",
       "\t<tr><td>Wyoming       </td><td> 4            </td></tr>\n",
       "</tbody>\n",
       "</table>\n"
      ],
      "text/latex": [
       "\\begin{tabular}{r|ll}\n",
       " state & n\\\\\n",
       "\\hline\n",
       "\t Alabama        &  2            \\\\\n",
       "\t Arkansas       &  3            \\\\\n",
       "\t California     &  2            \\\\\n",
       "\t Colorado       &  3            \\\\\n",
       "\t Florida        &  7            \\\\\n",
       "\t Georgia        &  8            \\\\\n",
       "\t Idaho          &  3            \\\\\n",
       "\t Illinois       &  6            \\\\\n",
       "\t Indiana        &  3            \\\\\n",
       "\t Iowa           &  3            \\\\\n",
       "\t Kansas         &  1            \\\\\n",
       "\t Kentucky       &  6            \\\\\n",
       "\t Maine          &  2            \\\\\n",
       "\t Michigan       &  2            \\\\\n",
       "\t Minnesota      &  6            \\\\\n",
       "\t Mississippi    &  6            \\\\\n",
       "\t Missouri       &  3            \\\\\n",
       "\t Montana        &  2            \\\\\n",
       "\t Nebraska       &  3            \\\\\n",
       "\t New Hampshire  &  1            \\\\\n",
       "\t New Mexico     &  2            \\\\\n",
       "\t New York       &  2            \\\\\n",
       "\t North Carolina &  7            \\\\\n",
       "\t North Dakota   &  7            \\\\\n",
       "\t Ohio           &  4            \\\\\n",
       "\t Oklahoma       &  7            \\\\\n",
       "\t Pennsylvania   &  3            \\\\\n",
       "\t South Carolina &  1            \\\\\n",
       "\t South Dakota   &  6            \\\\\n",
       "\t Tennessee      &  6            \\\\\n",
       "\t Texas          & 14            \\\\\n",
       "\t Vermont        &  1            \\\\\n",
       "\t Virginia       &  4            \\\\\n",
       "\t Washington     &  1            \\\\\n",
       "\t West Virginia  &  5            \\\\\n",
       "\t Wisconsin      &  4            \\\\\n",
       "\t Wyoming        &  4            \\\\\n",
       "\\end{tabular}\n"
      ],
      "text/markdown": [
       "\n",
       "state | n | \n",
       "|---|---|---|---|---|---|---|---|---|---|---|---|---|---|---|---|---|---|---|---|---|---|---|---|---|---|---|---|---|---|---|---|---|---|---|---|---|\n",
       "| Alabama        |  2             | \n",
       "| Arkansas       |  3             | \n",
       "| California     |  2             | \n",
       "| Colorado       |  3             | \n",
       "| Florida        |  7             | \n",
       "| Georgia        |  8             | \n",
       "| Idaho          |  3             | \n",
       "| Illinois       |  6             | \n",
       "| Indiana        |  3             | \n",
       "| Iowa           |  3             | \n",
       "| Kansas         |  1             | \n",
       "| Kentucky       |  6             | \n",
       "| Maine          |  2             | \n",
       "| Michigan       |  2             | \n",
       "| Minnesota      |  6             | \n",
       "| Mississippi    |  6             | \n",
       "| Missouri       |  3             | \n",
       "| Montana        |  2             | \n",
       "| Nebraska       |  3             | \n",
       "| New Hampshire  |  1             | \n",
       "| New Mexico     |  2             | \n",
       "| New York       |  2             | \n",
       "| North Carolina |  7             | \n",
       "| North Dakota   |  7             | \n",
       "| Ohio           |  4             | \n",
       "| Oklahoma       |  7             | \n",
       "| Pennsylvania   |  3             | \n",
       "| South Carolina |  1             | \n",
       "| South Dakota   |  6             | \n",
       "| Tennessee      |  6             | \n",
       "| Texas          | 14             | \n",
       "| Vermont        |  1             | \n",
       "| Virginia       |  4             | \n",
       "| Washington     |  1             | \n",
       "| West Virginia  |  5             | \n",
       "| Wisconsin      |  4             | \n",
       "| Wyoming        |  4             | \n",
       "\n",
       "\n"
      ],
      "text/plain": [
       "   state          n \n",
       "1  Alabama         2\n",
       "2  Arkansas        3\n",
       "3  California      2\n",
       "4  Colorado        3\n",
       "5  Florida         7\n",
       "6  Georgia         8\n",
       "7  Idaho           3\n",
       "8  Illinois        6\n",
       "9  Indiana         3\n",
       "10 Iowa            3\n",
       "11 Kansas          1\n",
       "12 Kentucky        6\n",
       "13 Maine           2\n",
       "14 Michigan        2\n",
       "15 Minnesota       6\n",
       "16 Mississippi     6\n",
       "17 Missouri        3\n",
       "18 Montana         2\n",
       "19 Nebraska        3\n",
       "20 New Hampshire   1\n",
       "21 New Mexico      2\n",
       "22 New York        2\n",
       "23 North Carolina  7\n",
       "24 North Dakota    7\n",
       "25 Ohio            4\n",
       "26 Oklahoma        7\n",
       "27 Pennsylvania    3\n",
       "28 South Carolina  1\n",
       "29 South Dakota    6\n",
       "30 Tennessee       6\n",
       "31 Texas          14\n",
       "32 Vermont         1\n",
       "33 Virginia        4\n",
       "34 Washington      1\n",
       "35 West Virginia   5\n",
       "36 Wisconsin       4\n",
       "37 Wyoming         4"
      ]
     },
     "metadata": {},
     "output_type": "display_data"
    }
   ],
   "source": [
    "# State distribution of SRS counties\n",
    "county_srs %>% group_by(state) %>% count()"
   ]
  },
  {
   "cell_type": "markdown",
   "metadata": {},
   "source": [
    "If our goal is to sample 3 counties per state we should use stratified sampling.\n",
    "\n",
    "To do this in R we write a similar query to the srs except that we use a group by before we request the sample."
   ]
  },
  {
   "cell_type": "code",
   "execution_count": 10,
   "metadata": {},
   "outputs": [],
   "source": [
    "# Stratified sample of 150 counties, each state is a stratum\n",
    "county_str <- county_noDc %>% group_by(state) %>% sample_n(size = 3)"
   ]
  },
  {
   "cell_type": "code",
   "execution_count": 11,
   "metadata": {},
   "outputs": [
    {
     "name": "stdout",
     "output_type": "stream",
     "text": [
      "Observations: 150\n",
      "Variables: 10\n",
      "$ name          <fctr> Choctaw County, Henry County, Clarke County, Yukon-K...\n",
      "$ state         <fctr> Alabama, Alabama, Alabama, Alaska, Alaska, Alaska, A...\n",
      "$ pop2000       <dbl> 15922, 16310, 27867, 6551, 2697, 59322, 8547, 160026,...\n",
      "$ pop2010       <dbl> 13859, 17302, 25833, 5588, 3141, 88995, 8437, 195751,...\n",
      "$ fed_spend     <dbl> 10.640378, 8.788464, 9.781442, 28.110773, 4.450493, 4...\n",
      "$ poverty       <dbl> 18.7, 15.1, 29.2, 23.6, 10.4, 9.9, 13.5, 20.9, 13.9, ...\n",
      "$ homeownership <dbl> 85.6, 81.9, 80.0, 69.1, 59.2, 79.2, 46.9, 69.6, 66.3,...\n",
      "$ multiunit     <dbl> 3.9, 3.2, 6.3, 2.9, 11.8, 10.1, 6.1, 12.5, 25.1, 5.9,...\n",
      "$ income        <dbl> 17214, 19716, 17372, 18614, 22279, 27910, 21281, 1841...\n",
      "$ med_income    <dbl> 31076, 38379, 27439, 33712, 54375, 67703, 48696, 4034...\n"
     ]
    }
   ],
   "source": [
    "glimpse(county_str)"
   ]
  },
  {
   "cell_type": "code",
   "execution_count": 12,
   "metadata": {},
   "outputs": [
    {
     "data": {
      "text/html": [
       "<table>\n",
       "<thead><tr><th scope=col>state</th><th scope=col>n</th></tr></thead>\n",
       "<tbody>\n",
       "\t<tr><td>Alabama       </td><td>3             </td></tr>\n",
       "\t<tr><td>Alaska        </td><td>3             </td></tr>\n",
       "\t<tr><td>Arizona       </td><td>3             </td></tr>\n",
       "\t<tr><td>Arkansas      </td><td>3             </td></tr>\n",
       "\t<tr><td>California    </td><td>3             </td></tr>\n",
       "\t<tr><td>Colorado      </td><td>3             </td></tr>\n",
       "\t<tr><td>Connecticut   </td><td>3             </td></tr>\n",
       "\t<tr><td>Delaware      </td><td>3             </td></tr>\n",
       "\t<tr><td>Florida       </td><td>3             </td></tr>\n",
       "\t<tr><td>Georgia       </td><td>3             </td></tr>\n",
       "\t<tr><td>Hawaii        </td><td>3             </td></tr>\n",
       "\t<tr><td>Idaho         </td><td>3             </td></tr>\n",
       "\t<tr><td>Illinois      </td><td>3             </td></tr>\n",
       "\t<tr><td>Indiana       </td><td>3             </td></tr>\n",
       "\t<tr><td>Iowa          </td><td>3             </td></tr>\n",
       "\t<tr><td>Kansas        </td><td>3             </td></tr>\n",
       "\t<tr><td>Kentucky      </td><td>3             </td></tr>\n",
       "\t<tr><td>Louisiana     </td><td>3             </td></tr>\n",
       "\t<tr><td>Maine         </td><td>3             </td></tr>\n",
       "\t<tr><td>Maryland      </td><td>3             </td></tr>\n",
       "\t<tr><td>Massachusetts </td><td>3             </td></tr>\n",
       "\t<tr><td>Michigan      </td><td>3             </td></tr>\n",
       "\t<tr><td>Minnesota     </td><td>3             </td></tr>\n",
       "\t<tr><td>Mississippi   </td><td>3             </td></tr>\n",
       "\t<tr><td>Missouri      </td><td>3             </td></tr>\n",
       "\t<tr><td>Montana       </td><td>3             </td></tr>\n",
       "\t<tr><td>Nebraska      </td><td>3             </td></tr>\n",
       "\t<tr><td>Nevada        </td><td>3             </td></tr>\n",
       "\t<tr><td>New Hampshire </td><td>3             </td></tr>\n",
       "\t<tr><td>New Jersey    </td><td>3             </td></tr>\n",
       "\t<tr><td>New Mexico    </td><td>3             </td></tr>\n",
       "\t<tr><td>New York      </td><td>3             </td></tr>\n",
       "\t<tr><td>North Carolina</td><td>3             </td></tr>\n",
       "\t<tr><td>North Dakota  </td><td>3             </td></tr>\n",
       "\t<tr><td>Ohio          </td><td>3             </td></tr>\n",
       "\t<tr><td>Oklahoma      </td><td>3             </td></tr>\n",
       "\t<tr><td>Oregon        </td><td>3             </td></tr>\n",
       "\t<tr><td>Pennsylvania  </td><td>3             </td></tr>\n",
       "\t<tr><td>Rhode Island  </td><td>3             </td></tr>\n",
       "\t<tr><td>South Carolina</td><td>3             </td></tr>\n",
       "\t<tr><td>South Dakota  </td><td>3             </td></tr>\n",
       "\t<tr><td>Tennessee     </td><td>3             </td></tr>\n",
       "\t<tr><td>Texas         </td><td>3             </td></tr>\n",
       "\t<tr><td>Utah          </td><td>3             </td></tr>\n",
       "\t<tr><td>Vermont       </td><td>3             </td></tr>\n",
       "\t<tr><td>Virginia      </td><td>3             </td></tr>\n",
       "\t<tr><td>Washington    </td><td>3             </td></tr>\n",
       "\t<tr><td>West Virginia </td><td>3             </td></tr>\n",
       "\t<tr><td>Wisconsin     </td><td>3             </td></tr>\n",
       "\t<tr><td>Wyoming       </td><td>3             </td></tr>\n",
       "</tbody>\n",
       "</table>\n"
      ],
      "text/latex": [
       "\\begin{tabular}{r|ll}\n",
       " state & n\\\\\n",
       "\\hline\n",
       "\t Alabama        & 3             \\\\\n",
       "\t Alaska         & 3             \\\\\n",
       "\t Arizona        & 3             \\\\\n",
       "\t Arkansas       & 3             \\\\\n",
       "\t California     & 3             \\\\\n",
       "\t Colorado       & 3             \\\\\n",
       "\t Connecticut    & 3             \\\\\n",
       "\t Delaware       & 3             \\\\\n",
       "\t Florida        & 3             \\\\\n",
       "\t Georgia        & 3             \\\\\n",
       "\t Hawaii         & 3             \\\\\n",
       "\t Idaho          & 3             \\\\\n",
       "\t Illinois       & 3             \\\\\n",
       "\t Indiana        & 3             \\\\\n",
       "\t Iowa           & 3             \\\\\n",
       "\t Kansas         & 3             \\\\\n",
       "\t Kentucky       & 3             \\\\\n",
       "\t Louisiana      & 3             \\\\\n",
       "\t Maine          & 3             \\\\\n",
       "\t Maryland       & 3             \\\\\n",
       "\t Massachusetts  & 3             \\\\\n",
       "\t Michigan       & 3             \\\\\n",
       "\t Minnesota      & 3             \\\\\n",
       "\t Mississippi    & 3             \\\\\n",
       "\t Missouri       & 3             \\\\\n",
       "\t Montana        & 3             \\\\\n",
       "\t Nebraska       & 3             \\\\\n",
       "\t Nevada         & 3             \\\\\n",
       "\t New Hampshire  & 3             \\\\\n",
       "\t New Jersey     & 3             \\\\\n",
       "\t New Mexico     & 3             \\\\\n",
       "\t New York       & 3             \\\\\n",
       "\t North Carolina & 3             \\\\\n",
       "\t North Dakota   & 3             \\\\\n",
       "\t Ohio           & 3             \\\\\n",
       "\t Oklahoma       & 3             \\\\\n",
       "\t Oregon         & 3             \\\\\n",
       "\t Pennsylvania   & 3             \\\\\n",
       "\t Rhode Island   & 3             \\\\\n",
       "\t South Carolina & 3             \\\\\n",
       "\t South Dakota   & 3             \\\\\n",
       "\t Tennessee      & 3             \\\\\n",
       "\t Texas          & 3             \\\\\n",
       "\t Utah           & 3             \\\\\n",
       "\t Vermont        & 3             \\\\\n",
       "\t Virginia       & 3             \\\\\n",
       "\t Washington     & 3             \\\\\n",
       "\t West Virginia  & 3             \\\\\n",
       "\t Wisconsin      & 3             \\\\\n",
       "\t Wyoming        & 3             \\\\\n",
       "\\end{tabular}\n"
      ],
      "text/markdown": [
       "\n",
       "state | n | \n",
       "|---|---|---|---|---|---|---|---|---|---|---|---|---|---|---|---|---|---|---|---|---|---|---|---|---|---|---|---|---|---|---|---|---|---|---|---|---|---|---|---|---|---|---|---|---|---|---|---|---|---|\n",
       "| Alabama        | 3              | \n",
       "| Alaska         | 3              | \n",
       "| Arizona        | 3              | \n",
       "| Arkansas       | 3              | \n",
       "| California     | 3              | \n",
       "| Colorado       | 3              | \n",
       "| Connecticut    | 3              | \n",
       "| Delaware       | 3              | \n",
       "| Florida        | 3              | \n",
       "| Georgia        | 3              | \n",
       "| Hawaii         | 3              | \n",
       "| Idaho          | 3              | \n",
       "| Illinois       | 3              | \n",
       "| Indiana        | 3              | \n",
       "| Iowa           | 3              | \n",
       "| Kansas         | 3              | \n",
       "| Kentucky       | 3              | \n",
       "| Louisiana      | 3              | \n",
       "| Maine          | 3              | \n",
       "| Maryland       | 3              | \n",
       "| Massachusetts  | 3              | \n",
       "| Michigan       | 3              | \n",
       "| Minnesota      | 3              | \n",
       "| Mississippi    | 3              | \n",
       "| Missouri       | 3              | \n",
       "| Montana        | 3              | \n",
       "| Nebraska       | 3              | \n",
       "| Nevada         | 3              | \n",
       "| New Hampshire  | 3              | \n",
       "| New Jersey     | 3              | \n",
       "| New Mexico     | 3              | \n",
       "| New York       | 3              | \n",
       "| North Carolina | 3              | \n",
       "| North Dakota   | 3              | \n",
       "| Ohio           | 3              | \n",
       "| Oklahoma       | 3              | \n",
       "| Oregon         | 3              | \n",
       "| Pennsylvania   | 3              | \n",
       "| Rhode Island   | 3              | \n",
       "| South Carolina | 3              | \n",
       "| South Dakota   | 3              | \n",
       "| Tennessee      | 3              | \n",
       "| Texas          | 3              | \n",
       "| Utah           | 3              | \n",
       "| Vermont        | 3              | \n",
       "| Virginia       | 3              | \n",
       "| Washington     | 3              | \n",
       "| West Virginia  | 3              | \n",
       "| Wisconsin      | 3              | \n",
       "| Wyoming        | 3              | \n",
       "\n",
       "\n"
      ],
      "text/plain": [
       "   state          n\n",
       "1  Alabama        3\n",
       "2  Alaska         3\n",
       "3  Arizona        3\n",
       "4  Arkansas       3\n",
       "5  California     3\n",
       "6  Colorado       3\n",
       "7  Connecticut    3\n",
       "8  Delaware       3\n",
       "9  Florida        3\n",
       "10 Georgia        3\n",
       "11 Hawaii         3\n",
       "12 Idaho          3\n",
       "13 Illinois       3\n",
       "14 Indiana        3\n",
       "15 Iowa           3\n",
       "16 Kansas         3\n",
       "17 Kentucky       3\n",
       "18 Louisiana      3\n",
       "19 Maine          3\n",
       "20 Maryland       3\n",
       "21 Massachusetts  3\n",
       "22 Michigan       3\n",
       "23 Minnesota      3\n",
       "24 Mississippi    3\n",
       "25 Missouri       3\n",
       "26 Montana        3\n",
       "27 Nebraska       3\n",
       "28 Nevada         3\n",
       "29 New Hampshire  3\n",
       "30 New Jersey     3\n",
       "31 New Mexico     3\n",
       "32 New York       3\n",
       "33 North Carolina 3\n",
       "34 North Dakota   3\n",
       "35 Ohio           3\n",
       "36 Oklahoma       3\n",
       "37 Oregon         3\n",
       "38 Pennsylvania   3\n",
       "39 Rhode Island   3\n",
       "40 South Carolina 3\n",
       "41 South Dakota   3\n",
       "42 Tennessee      3\n",
       "43 Texas          3\n",
       "44 Utah           3\n",
       "45 Vermont        3\n",
       "46 Virginia       3\n",
       "47 Washington     3\n",
       "48 West Virginia  3\n",
       "49 Wisconsin      3\n",
       "50 Wyoming        3"
      ]
     },
     "metadata": {},
     "output_type": "display_data"
    }
   ],
   "source": [
    "county_str %>% group_by(state) %>% count()"
   ]
  },
  {
   "cell_type": "markdown",
   "metadata": {},
   "source": [
    "## Stratified sample in R\n",
    "\n",
    "In the previous exercise, we took a simple random sample of eight states. However, we did not have any control over how many states from each region got sampled. The goal of stratified sampling in this context is to have control over the number of states sampled from each region. Our goal for this exercise is to sample an equal number of states from each region."
   ]
  },
  {
   "cell_type": "markdown",
   "metadata": {},
   "source": [
    "The dplyr package has been loaded and us_regions is still available in your workspace.\n",
    "\n",
    "- Use stratified sampling to select a total of eight states, where each stratum is a region. Save this sample in a data frame called states_str.\n",
    "\n",
    "- Count the number of states from each region in your sample to confirm that each region is represented equally in your sample."
   ]
  },
  {
   "cell_type": "code",
   "execution_count": 32,
   "metadata": {},
   "outputs": [],
   "source": [
    "us_regions<- read.csv('f:/datasets/us_regions_2.csv', sep=\",\", header=FALSE, quote = \"\\'\")"
   ]
  },
  {
   "cell_type": "code",
   "execution_count": 33,
   "metadata": {},
   "outputs": [
    {
     "data": {
      "text/html": [
       "<table>\n",
       "<thead><tr><th scope=col>V1</th><th scope=col>V2</th><th scope=col>V3</th></tr></thead>\n",
       "<tbody>\n",
       "\t<tr><td>1             </td><td> Connecticut  </td><td> Northeast    </td></tr>\n",
       "\t<tr><td>2             </td><td> Maine        </td><td> Northeast    </td></tr>\n",
       "\t<tr><td>3             </td><td> Massachusetts</td><td> Northeast    </td></tr>\n",
       "\t<tr><td>4             </td><td> New Hampshire</td><td> Northeast    </td></tr>\n",
       "\t<tr><td>5             </td><td> Rhode Island </td><td> Northeast    </td></tr>\n",
       "\t<tr><td>6             </td><td> Vermont      </td><td> Northeast    </td></tr>\n",
       "</tbody>\n",
       "</table>\n"
      ],
      "text/latex": [
       "\\begin{tabular}{r|lll}\n",
       " V1 & V2 & V3\\\\\n",
       "\\hline\n",
       "\t 1              &  Connecticut   &  Northeast    \\\\\n",
       "\t 2              &  Maine         &  Northeast    \\\\\n",
       "\t 3              &  Massachusetts &  Northeast    \\\\\n",
       "\t 4              &  New Hampshire &  Northeast    \\\\\n",
       "\t 5              &  Rhode Island  &  Northeast    \\\\\n",
       "\t 6              &  Vermont       &  Northeast    \\\\\n",
       "\\end{tabular}\n"
      ],
      "text/markdown": [
       "\n",
       "V1 | V2 | V3 | \n",
       "|---|---|---|---|---|---|\n",
       "| 1              |  Connecticut   |  Northeast     | \n",
       "| 2              |  Maine         |  Northeast     | \n",
       "| 3              |  Massachusetts |  Northeast     | \n",
       "| 4              |  New Hampshire |  Northeast     | \n",
       "| 5              |  Rhode Island  |  Northeast     | \n",
       "| 6              |  Vermont       |  Northeast     | \n",
       "\n",
       "\n"
      ],
      "text/plain": [
       "  V1 V2             V3        \n",
       "1 1   Connecticut    Northeast\n",
       "2 2   Maine          Northeast\n",
       "3 3   Massachusetts  Northeast\n",
       "4 4   New Hampshire  Northeast\n",
       "5 5   Rhode Island   Northeast\n",
       "6 6   Vermont        Northeast"
      ]
     },
     "metadata": {},
     "output_type": "display_data"
    }
   ],
   "source": [
    "head(us_regions)"
   ]
  },
  {
   "cell_type": "code",
   "execution_count": 34,
   "metadata": {},
   "outputs": [],
   "source": [
    "colnames(us_regions)<-c('counter', 'state', 'region')"
   ]
  },
  {
   "cell_type": "code",
   "execution_count": 35,
   "metadata": {},
   "outputs": [
    {
     "data": {
      "text/html": [
       "<table>\n",
       "<thead><tr><th scope=col>counter</th><th scope=col>state</th><th scope=col>region</th></tr></thead>\n",
       "<tbody>\n",
       "\t<tr><td>1             </td><td> Connecticut  </td><td> Northeast    </td></tr>\n",
       "\t<tr><td>2             </td><td> Maine        </td><td> Northeast    </td></tr>\n",
       "\t<tr><td>3             </td><td> Massachusetts</td><td> Northeast    </td></tr>\n",
       "\t<tr><td>4             </td><td> New Hampshire</td><td> Northeast    </td></tr>\n",
       "\t<tr><td>5             </td><td> Rhode Island </td><td> Northeast    </td></tr>\n",
       "\t<tr><td>6             </td><td> Vermont      </td><td> Northeast    </td></tr>\n",
       "</tbody>\n",
       "</table>\n"
      ],
      "text/latex": [
       "\\begin{tabular}{r|lll}\n",
       " counter & state & region\\\\\n",
       "\\hline\n",
       "\t 1              &  Connecticut   &  Northeast    \\\\\n",
       "\t 2              &  Maine         &  Northeast    \\\\\n",
       "\t 3              &  Massachusetts &  Northeast    \\\\\n",
       "\t 4              &  New Hampshire &  Northeast    \\\\\n",
       "\t 5              &  Rhode Island  &  Northeast    \\\\\n",
       "\t 6              &  Vermont       &  Northeast    \\\\\n",
       "\\end{tabular}\n"
      ],
      "text/markdown": [
       "\n",
       "counter | state | region | \n",
       "|---|---|---|---|---|---|\n",
       "| 1              |  Connecticut   |  Northeast     | \n",
       "| 2              |  Maine         |  Northeast     | \n",
       "| 3              |  Massachusetts |  Northeast     | \n",
       "| 4              |  New Hampshire |  Northeast     | \n",
       "| 5              |  Rhode Island  |  Northeast     | \n",
       "| 6              |  Vermont       |  Northeast     | \n",
       "\n",
       "\n"
      ],
      "text/plain": [
       "  counter state          region    \n",
       "1 1        Connecticut    Northeast\n",
       "2 2        Maine          Northeast\n",
       "3 3        Massachusetts  Northeast\n",
       "4 4        New Hampshire  Northeast\n",
       "5 5        Rhode Island   Northeast\n",
       "6 6        Vermont        Northeast"
      ]
     },
     "metadata": {},
     "output_type": "display_data"
    }
   ],
   "source": [
    "head(us_regions)"
   ]
  },
  {
   "cell_type": "code",
   "execution_count": 36,
   "metadata": {},
   "outputs": [],
   "source": [
    "# Stratified Sample\n",
    "states_str <- us_regions %>% group_by(region) %>% sample_n(size = 2)"
   ]
  },
  {
   "cell_type": "code",
   "execution_count": 37,
   "metadata": {},
   "outputs": [
    {
     "data": {
      "text/html": [
       "<table>\n",
       "<thead><tr><th scope=col>counter</th><th scope=col>state</th><th scope=col>region</th></tr></thead>\n",
       "<tbody>\n",
       "\t<tr><td>13           </td><td> Ohio        </td><td> Midwest     </td></tr>\n",
       "\t<tr><td>20           </td><td> North Dakota</td><td> Midwest     </td></tr>\n",
       "\t<tr><td> 2           </td><td> Maine       </td><td> Northeast   </td></tr>\n",
       "\t<tr><td> 5           </td><td> Rhode Island</td><td> Northeast   </td></tr>\n",
       "\t<tr><td>23           </td><td> Florida     </td><td> South       </td></tr>\n",
       "\t<tr><td>33           </td><td> Mississippi </td><td> South       </td></tr>\n",
       "\t<tr><td>45           </td><td> Utah        </td><td> West        </td></tr>\n",
       "\t<tr><td>50           </td><td> Oregon      </td><td> West        </td></tr>\n",
       "</tbody>\n",
       "</table>\n"
      ],
      "text/latex": [
       "\\begin{tabular}{r|lll}\n",
       " counter & state & region\\\\\n",
       "\\hline\n",
       "\t 13            &  Ohio         &  Midwest     \\\\\n",
       "\t 20            &  North Dakota &  Midwest     \\\\\n",
       "\t  2            &  Maine        &  Northeast   \\\\\n",
       "\t  5            &  Rhode Island &  Northeast   \\\\\n",
       "\t 23            &  Florida      &  South       \\\\\n",
       "\t 33            &  Mississippi  &  South       \\\\\n",
       "\t 45            &  Utah         &  West        \\\\\n",
       "\t 50            &  Oregon       &  West        \\\\\n",
       "\\end{tabular}\n"
      ],
      "text/markdown": [
       "\n",
       "counter | state | region | \n",
       "|---|---|---|---|---|---|---|---|\n",
       "| 13            |  Ohio         |  Midwest      | \n",
       "| 20            |  North Dakota |  Midwest      | \n",
       "|  2            |  Maine        |  Northeast    | \n",
       "|  5            |  Rhode Island |  Northeast    | \n",
       "| 23            |  Florida      |  South        | \n",
       "| 33            |  Mississippi  |  South        | \n",
       "| 45            |  Utah         |  West         | \n",
       "| 50            |  Oregon       |  West         | \n",
       "\n",
       "\n"
      ],
      "text/plain": [
       "  counter state         region    \n",
       "1 13       Ohio          Midwest  \n",
       "2 20       North Dakota  Midwest  \n",
       "3  2       Maine         Northeast\n",
       "4  5       Rhode Island  Northeast\n",
       "5 23       Florida       South    \n",
       "6 33       Mississippi   South    \n",
       "7 45       Utah          West     \n",
       "8 50       Oregon        West     "
      ]
     },
     "metadata": {},
     "output_type": "display_data"
    }
   ],
   "source": [
    "states_str"
   ]
  },
  {
   "cell_type": "code",
   "execution_count": 38,
   "metadata": {},
   "outputs": [
    {
     "data": {
      "text/html": [
       "<table>\n",
       "<thead><tr><th scope=col>region</th><th scope=col>n</th></tr></thead>\n",
       "<tbody>\n",
       "\t<tr><td> Midwest  </td><td>2         </td></tr>\n",
       "\t<tr><td> Northeast</td><td>2         </td></tr>\n",
       "\t<tr><td> South    </td><td>2         </td></tr>\n",
       "\t<tr><td> West     </td><td>2         </td></tr>\n",
       "</tbody>\n",
       "</table>\n"
      ],
      "text/latex": [
       "\\begin{tabular}{r|ll}\n",
       " region & n\\\\\n",
       "\\hline\n",
       "\t  Midwest   & 2         \\\\\n",
       "\t  Northeast & 2         \\\\\n",
       "\t  South     & 2         \\\\\n",
       "\t  West      & 2         \\\\\n",
       "\\end{tabular}\n"
      ],
      "text/markdown": [
       "\n",
       "region | n | \n",
       "|---|---|---|---|\n",
       "|  Midwest   | 2          | \n",
       "|  Northeast | 2          | \n",
       "|  South     | 2          | \n",
       "|  West      | 2          | \n",
       "\n",
       "\n"
      ],
      "text/plain": [
       "  region     n\n",
       "1  Midwest   2\n",
       "2  Northeast 2\n",
       "3  South     2\n",
       "4  West      2"
      ]
     },
     "metadata": {},
     "output_type": "display_data"
    }
   ],
   "source": [
    "# Count States by region\n",
    "states_str %>% group_by(region) %>% count()"
   ]
  },
  {
   "cell_type": "markdown",
   "metadata": {},
   "source": [
    "n this stratified sample, each stratum (i.e. Region) is represented equally. "
   ]
  },
  {
   "cell_type": "markdown",
   "metadata": {},
   "source": [
    "### Compare SRS vs. stratified sample\n",
    "\n",
    "Which method you implemented, simple random sampling or stratified sampling, ensured an equal number of states from each region?"
   ]
  },
  {
   "cell_type": "markdown",
   "metadata": {},
   "source": [
    "answer: Stratified sampling"
   ]
  },
  {
   "cell_type": "markdown",
   "metadata": {},
   "source": [
    "Simple random sampling would result in diferent amounts of data being sampled from each state."
   ]
  },
  {
   "cell_type": "markdown",
   "metadata": {},
   "source": [
    "# Identifying components of a study\n",
    "\n",
    "A researcher designs a study to test the effect of light and noise levels on exam performance of students. The researcher also believes that light and noise levels might have different effects on males and females, so she wants to make sure both genders are represented equally under different conditions.\n",
    "\n",
    "Which of the below is correct?"
   ]
  },
  {
   "cell_type": "markdown",
   "metadata": {},
   "source": [
    "answer: There are 2 explanatory variables (light and noise), 1 blocking variable (gender), and 1 response variable (exam performance)."
   ]
  },
  {
   "cell_type": "markdown",
   "metadata": {},
   "source": [
    "## Experimental design terminology\n",
    "\n",
    "___ variables are conditions you can impose on the experimental units, while ___ variables are characteristics that the experimental units come with that you would like to control for."
   ]
  },
  {
   "cell_type": "markdown",
   "metadata": {},
   "source": [
    "answer: Explanatory, blocking"
   ]
  },
  {
   "cell_type": "markdown",
   "metadata": {},
   "source": [
    "## Connect blocking and stratifying\n",
    "\n",
    "In random sampling, we use ___ to control for a variable. In random assignment, we use ___ to achieve the same goal."
   ]
  },
  {
   "cell_type": "markdown",
   "metadata": {},
   "source": [
    "answer: stratifying, blocking"
   ]
  },
  {
   "cell_type": "code",
   "execution_count": null,
   "metadata": {},
   "outputs": [],
   "source": []
  }
 ],
 "metadata": {
  "kernelspec": {
   "display_name": "R",
   "language": "R",
   "name": "ir"
  },
  "language_info": {
   "codemirror_mode": "r",
   "file_extension": ".r",
   "mimetype": "text/x-r-source",
   "name": "R",
   "pygments_lexer": "r",
   "version": "3.4.3"
  }
 },
 "nbformat": 4,
 "nbformat_minor": 2
}
